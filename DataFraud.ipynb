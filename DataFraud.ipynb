{
 "cells": [
  {
   "cell_type": "markdown",
   "metadata": {},
   "source": [
    "# Lab 06: Building a Fraud Detector"
   ]
  },
  {
   "attachments": {},
   "cell_type": "markdown",
   "metadata": {},
   "source": [
    "---\n",
    "author: Ethan Wee\n",
    "date: October 13, 2023\n",
    "embed-resources: true\n",
    "---"
   ]
  },
  {
   "cell_type": "markdown",
   "metadata": {},
   "source": [
    "## Introduction and Data"
   ]
  },
  {
   "cell_type": "markdown",
   "metadata": {},
   "source": [
    "**Goal:** The goal of this lab is to create a **fraud detector** that can be used as a part of an automated banking system. It should predict whether or not each transaction is fraud or not."
   ]
  },
  {
   "cell_type": "markdown",
   "metadata": {},
   "source": [
    "To do this, you'll need to import the following:"
   ]
  },
  {
   "cell_type": "code",
   "execution_count": 6,
   "metadata": {},
   "outputs": [],
   "source": [
    "# basics\n",
    "import numpy as np\n",
    "import pandas as pd\n",
    "import matplotlib.pyplot as plt\n",
    "import seaborn as sns\n",
    "\n",
    "# Machine Learning\n",
    "from sklearn.datasets import make_classification, load_breast_cancer\n",
    "from sklearn.model_selection import train_test_split, GridSearchCV\n",
    "from sklearn.preprocessing import StandardScaler\n",
    "from sklearn.pipeline import Pipeline\n",
    "from sklearn.ensemble import RandomForestClassifier\n",
    "from sklearn.dummy import DummyClassifier\n",
    "from sklearn.linear_model import LogisticRegression, LogisticRegressionCV\n",
    "\n",
    "# Binary Classification\n",
    "from sklearn.metrics import accuracy_score, confusion_matrix, classification_report, make_scorer\n",
    "from sklearn.metrics import ConfusionMatrixDisplay\n",
    "from sklearn.metrics import accuracy_score, recall_score, precision_score, f1_score, balanced_accuracy_score"
   ]
  },
  {
   "cell_type": "markdown",
   "metadata": {},
   "source": [
    "You are free to import additional packages and modules as you see fit, and you will almost certainly need to."
   ]
  },
  {
   "cell_type": "markdown",
   "metadata": {},
   "source": [
    "The data for this lab originally comes from Kaggle.\n",
    "\n",
    "- [Kaggle: Credit Card Fraud Detection](https://www.kaggle.com/datasets/mlg-ulb/creditcardfraud/)\n",
    "\n",
    ">  This dataset presents transactions that occurred in two days, where we have 492 frauds out of 284,807 transactions. The dataset is highly unbalanced, the positive class (frauds) account for 0.172% of all transactions.\n",
    "\n",
    "> It contains only numerical input variables which are the result of a PCA transformation. Unfortunately, due to confidentiality issues, we cannot provide the original features and more background information about the data. Features V1, V2, … V28 are the principal components obtained with PCA, the only features which have not been transformed with PCA are 'Time' and 'Amount'. Feature 'Time' contains the seconds elapsed between each transaction and the first transaction in the dataset. The feature 'Amount' is the transaction Amount, this feature can be used for example-dependant cost-sensitive learning. Feature 'Class' is the response variable and it takes value 1 in case of fraud and 0 otherwise. \n",
    "\n",
    "We are providing a slightly modified subset of the data for this lab. Beyond subsetting, we have:\n",
    "\n",
    "- Removed the `Time` variable as it is misleading.\n",
    "- Slightly modified the ratio of fraud to not fraud.\n",
    "\n",
    "Note that PCA is a method that we will learn about later in the course. For now, know that it takes some number of features as inputs, and outputs either the same or fewer features, that retain most of the original information in the features. You can assume things like location and type of purchase were among the original input features. (Ever had a credit card transaction denied while traveling?)"
   ]
  },
  {
   "cell_type": "markdown",
   "metadata": {},
   "source": [
    "We present the **train** data as both a complete data frame, or the `X` and `y` data. The former will be useful for calculating summary statistics. The latter will be useful for model training."
   ]
  },
  {
   "cell_type": "code",
   "execution_count": null,
   "metadata": {},
   "outputs": [],
   "source": []
  },
  {
   "cell_type": "markdown",
   "metadata": {},
   "source": [
    "Note that we are *not* providing a **test** dataset. Instead, the test dataset will live within the autograder, and once you submit, you will receive feedback and metrics based on the test data. (Therefor, cross-validation or a validation set will be your friend here.)"
   ]
  },
  {
   "cell_type": "code",
   "execution_count": 2,
   "metadata": {},
   "outputs": [
    {
     "data": {
      "text/html": [
       "<div>\n",
       "<style scoped>\n",
       "    .dataframe tbody tr th:only-of-type {\n",
       "        vertical-align: middle;\n",
       "    }\n",
       "\n",
       "    .dataframe tbody tr th {\n",
       "        vertical-align: top;\n",
       "    }\n",
       "\n",
       "    .dataframe thead th {\n",
       "        text-align: right;\n",
       "    }\n",
       "</style>\n",
       "<table border=\"1\" class=\"dataframe\">\n",
       "  <thead>\n",
       "    <tr style=\"text-align: right;\">\n",
       "      <th></th>\n",
       "      <th>V1</th>\n",
       "      <th>V2</th>\n",
       "      <th>V3</th>\n",
       "      <th>V4</th>\n",
       "      <th>V5</th>\n",
       "      <th>V6</th>\n",
       "      <th>V7</th>\n",
       "      <th>V8</th>\n",
       "      <th>V9</th>\n",
       "      <th>V10</th>\n",
       "      <th>...</th>\n",
       "      <th>V21</th>\n",
       "      <th>V22</th>\n",
       "      <th>V23</th>\n",
       "      <th>V24</th>\n",
       "      <th>V25</th>\n",
       "      <th>V26</th>\n",
       "      <th>V27</th>\n",
       "      <th>V28</th>\n",
       "      <th>Amount</th>\n",
       "      <th>Class</th>\n",
       "    </tr>\n",
       "  </thead>\n",
       "  <tbody>\n",
       "    <tr>\n",
       "      <th>0</th>\n",
       "      <td>-16.598665</td>\n",
       "      <td>10.541751</td>\n",
       "      <td>-19.818982</td>\n",
       "      <td>6.017295</td>\n",
       "      <td>-13.025901</td>\n",
       "      <td>-4.128779</td>\n",
       "      <td>-14.118865</td>\n",
       "      <td>11.161144</td>\n",
       "      <td>-4.099551</td>\n",
       "      <td>-9.222826</td>\n",
       "      <td>...</td>\n",
       "      <td>1.725853</td>\n",
       "      <td>-1.151606</td>\n",
       "      <td>-0.680052</td>\n",
       "      <td>0.108176</td>\n",
       "      <td>1.066878</td>\n",
       "      <td>-0.233720</td>\n",
       "      <td>1.707521</td>\n",
       "      <td>0.511423</td>\n",
       "      <td>99.99</td>\n",
       "      <td>1</td>\n",
       "    </tr>\n",
       "    <tr>\n",
       "      <th>1</th>\n",
       "      <td>1.140431</td>\n",
       "      <td>1.134243</td>\n",
       "      <td>-1.429455</td>\n",
       "      <td>2.012226</td>\n",
       "      <td>0.622800</td>\n",
       "      <td>-1.152923</td>\n",
       "      <td>0.221159</td>\n",
       "      <td>0.037372</td>\n",
       "      <td>0.034486</td>\n",
       "      <td>-1.879644</td>\n",
       "      <td>...</td>\n",
       "      <td>-0.367136</td>\n",
       "      <td>-0.891627</td>\n",
       "      <td>-0.160578</td>\n",
       "      <td>-0.108326</td>\n",
       "      <td>0.668374</td>\n",
       "      <td>-0.352393</td>\n",
       "      <td>0.071993</td>\n",
       "      <td>0.113684</td>\n",
       "      <td>1.00</td>\n",
       "      <td>1</td>\n",
       "    </tr>\n",
       "    <tr>\n",
       "      <th>2</th>\n",
       "      <td>-13.897206</td>\n",
       "      <td>6.344280</td>\n",
       "      <td>-14.281666</td>\n",
       "      <td>5.581009</td>\n",
       "      <td>-12.887133</td>\n",
       "      <td>-3.146176</td>\n",
       "      <td>-15.450467</td>\n",
       "      <td>9.060281</td>\n",
       "      <td>-5.486121</td>\n",
       "      <td>-14.676470</td>\n",
       "      <td>...</td>\n",
       "      <td>3.058082</td>\n",
       "      <td>0.941180</td>\n",
       "      <td>-0.232710</td>\n",
       "      <td>0.763508</td>\n",
       "      <td>0.075456</td>\n",
       "      <td>-0.453840</td>\n",
       "      <td>-1.508968</td>\n",
       "      <td>-0.686836</td>\n",
       "      <td>9.99</td>\n",
       "      <td>1</td>\n",
       "    </tr>\n",
       "    <tr>\n",
       "      <th>3</th>\n",
       "      <td>-20.906908</td>\n",
       "      <td>9.843153</td>\n",
       "      <td>-19.947726</td>\n",
       "      <td>6.155789</td>\n",
       "      <td>-15.142013</td>\n",
       "      <td>-2.239566</td>\n",
       "      <td>-21.234463</td>\n",
       "      <td>1.151795</td>\n",
       "      <td>-8.739670</td>\n",
       "      <td>-18.271168</td>\n",
       "      <td>...</td>\n",
       "      <td>-1.977196</td>\n",
       "      <td>0.652932</td>\n",
       "      <td>-0.519777</td>\n",
       "      <td>0.541702</td>\n",
       "      <td>-0.053861</td>\n",
       "      <td>0.112671</td>\n",
       "      <td>-3.765371</td>\n",
       "      <td>-1.071238</td>\n",
       "      <td>1.00</td>\n",
       "      <td>1</td>\n",
       "    </tr>\n",
       "    <tr>\n",
       "      <th>4</th>\n",
       "      <td>-4.221221</td>\n",
       "      <td>2.871121</td>\n",
       "      <td>-5.888716</td>\n",
       "      <td>6.890952</td>\n",
       "      <td>-3.404894</td>\n",
       "      <td>-1.154394</td>\n",
       "      <td>-7.739928</td>\n",
       "      <td>2.851363</td>\n",
       "      <td>-2.507569</td>\n",
       "      <td>-5.110728</td>\n",
       "      <td>...</td>\n",
       "      <td>1.620591</td>\n",
       "      <td>1.567947</td>\n",
       "      <td>-0.578007</td>\n",
       "      <td>-0.059045</td>\n",
       "      <td>-1.829169</td>\n",
       "      <td>-0.072429</td>\n",
       "      <td>0.136734</td>\n",
       "      <td>-0.599848</td>\n",
       "      <td>7.59</td>\n",
       "      <td>1</td>\n",
       "    </tr>\n",
       "    <tr>\n",
       "      <th>...</th>\n",
       "      <td>...</td>\n",
       "      <td>...</td>\n",
       "      <td>...</td>\n",
       "      <td>...</td>\n",
       "      <td>...</td>\n",
       "      <td>...</td>\n",
       "      <td>...</td>\n",
       "      <td>...</td>\n",
       "      <td>...</td>\n",
       "      <td>...</td>\n",
       "      <td>...</td>\n",
       "      <td>...</td>\n",
       "      <td>...</td>\n",
       "      <td>...</td>\n",
       "      <td>...</td>\n",
       "      <td>...</td>\n",
       "      <td>...</td>\n",
       "      <td>...</td>\n",
       "      <td>...</td>\n",
       "      <td>...</td>\n",
       "      <td>...</td>\n",
       "    </tr>\n",
       "    <tr>\n",
       "      <th>17810</th>\n",
       "      <td>-0.312808</td>\n",
       "      <td>1.571520</td>\n",
       "      <td>0.625071</td>\n",
       "      <td>2.851596</td>\n",
       "      <td>1.440896</td>\n",
       "      <td>0.370273</td>\n",
       "      <td>1.559423</td>\n",
       "      <td>-0.122626</td>\n",
       "      <td>-2.127059</td>\n",
       "      <td>0.721825</td>\n",
       "      <td>...</td>\n",
       "      <td>-0.072840</td>\n",
       "      <td>-0.276301</td>\n",
       "      <td>-0.144144</td>\n",
       "      <td>-0.813403</td>\n",
       "      <td>-0.094574</td>\n",
       "      <td>-0.086966</td>\n",
       "      <td>0.101273</td>\n",
       "      <td>0.154888</td>\n",
       "      <td>49.66</td>\n",
       "      <td>0</td>\n",
       "    </tr>\n",
       "    <tr>\n",
       "      <th>17811</th>\n",
       "      <td>-0.487943</td>\n",
       "      <td>0.571487</td>\n",
       "      <td>2.170264</td>\n",
       "      <td>1.787858</td>\n",
       "      <td>-1.172119</td>\n",
       "      <td>0.854935</td>\n",
       "      <td>-1.604364</td>\n",
       "      <td>-2.430118</td>\n",
       "      <td>0.901141</td>\n",
       "      <td>-1.000582</td>\n",
       "      <td>...</td>\n",
       "      <td>-1.199242</td>\n",
       "      <td>0.664000</td>\n",
       "      <td>-0.318814</td>\n",
       "      <td>0.499873</td>\n",
       "      <td>1.124744</td>\n",
       "      <td>-0.044556</td>\n",
       "      <td>0.037318</td>\n",
       "      <td>0.199837</td>\n",
       "      <td>109.00</td>\n",
       "      <td>0</td>\n",
       "    </tr>\n",
       "    <tr>\n",
       "      <th>17812</th>\n",
       "      <td>-0.538047</td>\n",
       "      <td>1.726031</td>\n",
       "      <td>-1.045152</td>\n",
       "      <td>1.006301</td>\n",
       "      <td>1.187114</td>\n",
       "      <td>-0.414069</td>\n",
       "      <td>0.981697</td>\n",
       "      <td>0.382300</td>\n",
       "      <td>-1.123658</td>\n",
       "      <td>-0.669527</td>\n",
       "      <td>...</td>\n",
       "      <td>0.124935</td>\n",
       "      <td>0.468033</td>\n",
       "      <td>-0.218558</td>\n",
       "      <td>0.584019</td>\n",
       "      <td>0.029165</td>\n",
       "      <td>-0.424886</td>\n",
       "      <td>0.321420</td>\n",
       "      <td>0.204597</td>\n",
       "      <td>15.15</td>\n",
       "      <td>0</td>\n",
       "    </tr>\n",
       "    <tr>\n",
       "      <th>17813</th>\n",
       "      <td>-1.873035</td>\n",
       "      <td>-1.374780</td>\n",
       "      <td>1.112630</td>\n",
       "      <td>-2.800630</td>\n",
       "      <td>-0.440281</td>\n",
       "      <td>-0.601116</td>\n",
       "      <td>-0.855678</td>\n",
       "      <td>0.612189</td>\n",
       "      <td>-2.374276</td>\n",
       "      <td>0.487293</td>\n",
       "      <td>...</td>\n",
       "      <td>0.025152</td>\n",
       "      <td>-0.106362</td>\n",
       "      <td>-0.187154</td>\n",
       "      <td>-0.422605</td>\n",
       "      <td>0.699307</td>\n",
       "      <td>-0.124145</td>\n",
       "      <td>0.144883</td>\n",
       "      <td>-0.129892</td>\n",
       "      <td>91.00</td>\n",
       "      <td>0</td>\n",
       "    </tr>\n",
       "    <tr>\n",
       "      <th>17814</th>\n",
       "      <td>1.719386</td>\n",
       "      <td>0.402091</td>\n",
       "      <td>-0.899124</td>\n",
       "      <td>3.611173</td>\n",
       "      <td>1.257730</td>\n",
       "      <td>1.579898</td>\n",
       "      <td>-0.086648</td>\n",
       "      <td>0.311985</td>\n",
       "      <td>-0.045239</td>\n",
       "      <td>1.197646</td>\n",
       "      <td>...</td>\n",
       "      <td>0.215670</td>\n",
       "      <td>0.854776</td>\n",
       "      <td>0.084477</td>\n",
       "      <td>-1.450250</td>\n",
       "      <td>-0.143424</td>\n",
       "      <td>0.188958</td>\n",
       "      <td>-0.033348</td>\n",
       "      <td>-0.077165</td>\n",
       "      <td>43.24</td>\n",
       "      <td>0</td>\n",
       "    </tr>\n",
       "  </tbody>\n",
       "</table>\n",
       "<p>17815 rows × 30 columns</p>\n",
       "</div>"
      ],
      "text/plain": [
       "              V1         V2         V3        V4         V5        V6  \\\n",
       "0     -16.598665  10.541751 -19.818982  6.017295 -13.025901 -4.128779   \n",
       "1       1.140431   1.134243  -1.429455  2.012226   0.622800 -1.152923   \n",
       "2     -13.897206   6.344280 -14.281666  5.581009 -12.887133 -3.146176   \n",
       "3     -20.906908   9.843153 -19.947726  6.155789 -15.142013 -2.239566   \n",
       "4      -4.221221   2.871121  -5.888716  6.890952  -3.404894 -1.154394   \n",
       "...          ...        ...        ...       ...        ...       ...   \n",
       "17810  -0.312808   1.571520   0.625071  2.851596   1.440896  0.370273   \n",
       "17811  -0.487943   0.571487   2.170264  1.787858  -1.172119  0.854935   \n",
       "17812  -0.538047   1.726031  -1.045152  1.006301   1.187114 -0.414069   \n",
       "17813  -1.873035  -1.374780   1.112630 -2.800630  -0.440281 -0.601116   \n",
       "17814   1.719386   0.402091  -0.899124  3.611173   1.257730  1.579898   \n",
       "\n",
       "              V7         V8        V9        V10  ...       V21       V22  \\\n",
       "0     -14.118865  11.161144 -4.099551  -9.222826  ...  1.725853 -1.151606   \n",
       "1       0.221159   0.037372  0.034486  -1.879644  ... -0.367136 -0.891627   \n",
       "2     -15.450467   9.060281 -5.486121 -14.676470  ...  3.058082  0.941180   \n",
       "3     -21.234463   1.151795 -8.739670 -18.271168  ... -1.977196  0.652932   \n",
       "4      -7.739928   2.851363 -2.507569  -5.110728  ...  1.620591  1.567947   \n",
       "...          ...        ...       ...        ...  ...       ...       ...   \n",
       "17810   1.559423  -0.122626 -2.127059   0.721825  ... -0.072840 -0.276301   \n",
       "17811  -1.604364  -2.430118  0.901141  -1.000582  ... -1.199242  0.664000   \n",
       "17812   0.981697   0.382300 -1.123658  -0.669527  ...  0.124935  0.468033   \n",
       "17813  -0.855678   0.612189 -2.374276   0.487293  ...  0.025152 -0.106362   \n",
       "17814  -0.086648   0.311985 -0.045239   1.197646  ...  0.215670  0.854776   \n",
       "\n",
       "            V23       V24       V25       V26       V27       V28  Amount  \\\n",
       "0     -0.680052  0.108176  1.066878 -0.233720  1.707521  0.511423   99.99   \n",
       "1     -0.160578 -0.108326  0.668374 -0.352393  0.071993  0.113684    1.00   \n",
       "2     -0.232710  0.763508  0.075456 -0.453840 -1.508968 -0.686836    9.99   \n",
       "3     -0.519777  0.541702 -0.053861  0.112671 -3.765371 -1.071238    1.00   \n",
       "4     -0.578007 -0.059045 -1.829169 -0.072429  0.136734 -0.599848    7.59   \n",
       "...         ...       ...       ...       ...       ...       ...     ...   \n",
       "17810 -0.144144 -0.813403 -0.094574 -0.086966  0.101273  0.154888   49.66   \n",
       "17811 -0.318814  0.499873  1.124744 -0.044556  0.037318  0.199837  109.00   \n",
       "17812 -0.218558  0.584019  0.029165 -0.424886  0.321420  0.204597   15.15   \n",
       "17813 -0.187154 -0.422605  0.699307 -0.124145  0.144883 -0.129892   91.00   \n",
       "17814  0.084477 -1.450250 -0.143424  0.188958 -0.033348 -0.077165   43.24   \n",
       "\n",
       "       Class  \n",
       "0          1  \n",
       "1          1  \n",
       "2          1  \n",
       "3          1  \n",
       "4          1  \n",
       "...      ...  \n",
       "17810      0  \n",
       "17811      0  \n",
       "17812      0  \n",
       "17813      0  \n",
       "17814      0  \n",
       "\n",
       "[17815 rows x 30 columns]"
      ]
     },
     "execution_count": 2,
     "metadata": {},
     "output_type": "execute_result"
    }
   ],
   "source": [
    "train = pd.read_csv(\"https://cs307.org/lab/lab-06/data/credit_train.csv\")\n",
    "train\n"
   ]
  },
  {
   "cell_type": "code",
   "execution_count": null,
   "metadata": {},
   "outputs": [],
   "source": []
  },
  {
   "cell_type": "code",
   "execution_count": null,
   "metadata": {},
   "outputs": [],
   "source": []
  },
  {
   "cell_type": "code",
   "execution_count": 3,
   "metadata": {},
   "outputs": [],
   "source": [
    "# create X and y for train data\n",
    "X_train = train.drop(\"Class\", axis=1)\n",
    "y_train = train[\"Class\"]\n"
   ]
  },
  {
   "cell_type": "code",
   "execution_count": 33,
   "metadata": {},
   "outputs": [
    {
     "name": "stdout",
     "output_type": "stream",
     "text": [
      "(17715,)\n",
      "(100,)\n"
     ]
    }
   ],
   "source": [
    "print(y_train[y_train == 0].shape)\n",
    "print(y_train[y_train == 1].shape)\n",
    "\n"
   ]
  },
  {
   "cell_type": "code",
   "execution_count": 52,
   "metadata": {},
   "outputs": [
    {
     "data": {
      "text/plain": [
       "126.91189999999999"
      ]
     },
     "execution_count": 52,
     "metadata": {},
     "output_type": "execute_result"
    }
   ],
   "source": [
    "train[train[\"Class\"]==1].Amount.mean()"
   ]
  },
  {
   "cell_type": "code",
   "execution_count": 53,
   "metadata": {},
   "outputs": [
    {
     "data": {
      "text/plain": [
       "85.6023412854316"
      ]
     },
     "execution_count": 53,
     "metadata": {},
     "output_type": "execute_result"
    }
   ],
   "source": [
    "train.Amount.mean()"
   ]
  },
  {
   "cell_type": "code",
   "execution_count": 35,
   "metadata": {},
   "outputs": [
    {
     "data": {
      "text/plain": [
       "0.994386752736458"
      ]
     },
     "execution_count": 35,
     "metadata": {},
     "output_type": "execute_result"
    }
   ],
   "source": [
    "17715/(17815)"
   ]
  },
  {
   "cell_type": "markdown",
   "metadata": {},
   "source": [
    "## Summary Statistics (Graded Work)"
   ]
  },
  {
   "cell_type": "markdown",
   "metadata": {},
   "source": [
    "What summary statistics should be calculated? See the relevant assignment on PrairieLearn!\n",
    "\n",
    "- [Lab 06: Building a Fraud Detector](https://us.prairielearn.com/pl/course_instance/140731/assessment_instance/6332208)"
   ]
  },
  {
   "cell_type": "markdown",
   "metadata": {},
   "source": [
    "## Model Training (Graded Work)"
   ]
  },
  {
   "cell_type": "markdown",
   "metadata": {},
   "source": [
    "For this lab, you may train models however you'd like!\n",
    "\n",
    "The only rules are:\n",
    "\n",
    "- Models must start from the given training data, unmodified.\n",
    "    - Importantly the type and shape of `X_train` and `y_train` should not be changed, and should be the input to your models.\n",
    "    - That is, any pipeline must start from these. After that, do whatever!\n",
    "- Your model must have a `predict` method.\n",
    "- Your model must have a `predict_proba` method."
   ]
  },
  {
   "cell_type": "markdown",
   "metadata": {},
   "source": [
    "You will submit your chosen model to an autograder to checking. It will calculate your models performance on the test data. Notice that, because you will have unlimited attempts, this somewhat encourages checking against test data multiple times. But you know this is bad in practice. Also, if you use cross-validation to find a good model before submitting, hopefully you'll only need to submit once!"
   ]
  },
  {
   "cell_type": "code",
   "execution_count": 12,
   "metadata": {},
   "outputs": [
    {
     "data": {
      "text/html": [
       "<style>#sk-container-id-1 {color: black;}#sk-container-id-1 pre{padding: 0;}#sk-container-id-1 div.sk-toggleable {background-color: white;}#sk-container-id-1 label.sk-toggleable__label {cursor: pointer;display: block;width: 100%;margin-bottom: 0;padding: 0.3em;box-sizing: border-box;text-align: center;}#sk-container-id-1 label.sk-toggleable__label-arrow:before {content: \"▸\";float: left;margin-right: 0.25em;color: #696969;}#sk-container-id-1 label.sk-toggleable__label-arrow:hover:before {color: black;}#sk-container-id-1 div.sk-estimator:hover label.sk-toggleable__label-arrow:before {color: black;}#sk-container-id-1 div.sk-toggleable__content {max-height: 0;max-width: 0;overflow: hidden;text-align: left;background-color: #f0f8ff;}#sk-container-id-1 div.sk-toggleable__content pre {margin: 0.2em;color: black;border-radius: 0.25em;background-color: #f0f8ff;}#sk-container-id-1 input.sk-toggleable__control:checked~div.sk-toggleable__content {max-height: 200px;max-width: 100%;overflow: auto;}#sk-container-id-1 input.sk-toggleable__control:checked~label.sk-toggleable__label-arrow:before {content: \"▾\";}#sk-container-id-1 div.sk-estimator input.sk-toggleable__control:checked~label.sk-toggleable__label {background-color: #d4ebff;}#sk-container-id-1 div.sk-label input.sk-toggleable__control:checked~label.sk-toggleable__label {background-color: #d4ebff;}#sk-container-id-1 input.sk-hidden--visually {border: 0;clip: rect(1px 1px 1px 1px);clip: rect(1px, 1px, 1px, 1px);height: 1px;margin: -1px;overflow: hidden;padding: 0;position: absolute;width: 1px;}#sk-container-id-1 div.sk-estimator {font-family: monospace;background-color: #f0f8ff;border: 1px dotted black;border-radius: 0.25em;box-sizing: border-box;margin-bottom: 0.5em;}#sk-container-id-1 div.sk-estimator:hover {background-color: #d4ebff;}#sk-container-id-1 div.sk-parallel-item::after {content: \"\";width: 100%;border-bottom: 1px solid gray;flex-grow: 1;}#sk-container-id-1 div.sk-label:hover label.sk-toggleable__label {background-color: #d4ebff;}#sk-container-id-1 div.sk-serial::before {content: \"\";position: absolute;border-left: 1px solid gray;box-sizing: border-box;top: 0;bottom: 0;left: 50%;z-index: 0;}#sk-container-id-1 div.sk-serial {display: flex;flex-direction: column;align-items: center;background-color: white;padding-right: 0.2em;padding-left: 0.2em;position: relative;}#sk-container-id-1 div.sk-item {position: relative;z-index: 1;}#sk-container-id-1 div.sk-parallel {display: flex;align-items: stretch;justify-content: center;background-color: white;position: relative;}#sk-container-id-1 div.sk-item::before, #sk-container-id-1 div.sk-parallel-item::before {content: \"\";position: absolute;border-left: 1px solid gray;box-sizing: border-box;top: 0;bottom: 0;left: 50%;z-index: -1;}#sk-container-id-1 div.sk-parallel-item {display: flex;flex-direction: column;z-index: 1;position: relative;background-color: white;}#sk-container-id-1 div.sk-parallel-item:first-child::after {align-self: flex-end;width: 50%;}#sk-container-id-1 div.sk-parallel-item:last-child::after {align-self: flex-start;width: 50%;}#sk-container-id-1 div.sk-parallel-item:only-child::after {width: 0;}#sk-container-id-1 div.sk-dashed-wrapped {border: 1px dashed gray;margin: 0 0.4em 0.5em 0.4em;box-sizing: border-box;padding-bottom: 0.4em;background-color: white;}#sk-container-id-1 div.sk-label label {font-family: monospace;font-weight: bold;display: inline-block;line-height: 1.2em;}#sk-container-id-1 div.sk-label-container {text-align: center;}#sk-container-id-1 div.sk-container {/* jupyter's `normalize.less` sets `[hidden] { display: none; }` but bootstrap.min.css set `[hidden] { display: none !important; }` so we also need the `!important` here to be able to override the default hidden behavior on the sphinx rendered scikit-learn.org. See: https://github.com/scikit-learn/scikit-learn/issues/21755 */display: inline-block !important;position: relative;}#sk-container-id-1 div.sk-text-repr-fallback {display: none;}</style><div id=\"sk-container-id-1\" class=\"sk-top-container\"><div class=\"sk-text-repr-fallback\"><pre>GridSearchCV(cv=5,\n",
       "             estimator=Pipeline(steps=[(&#x27;scaler&#x27;, StandardScaler()),\n",
       "                                       (&#x27;randomforest&#x27;,\n",
       "                                        RandomForestClassifier())]),\n",
       "             param_grid={&#x27;randomforest__max_depth&#x27;: [3, 5, 7],\n",
       "                         &#x27;randomforest__min_samples_split&#x27;: [2, 5, 10]})</pre><b>In a Jupyter environment, please rerun this cell to show the HTML representation or trust the notebook. <br />On GitHub, the HTML representation is unable to render, please try loading this page with nbviewer.org.</b></div><div class=\"sk-container\" hidden><div class=\"sk-item sk-dashed-wrapped\"><div class=\"sk-label-container\"><div class=\"sk-label sk-toggleable\"><input class=\"sk-toggleable__control sk-hidden--visually\" id=\"sk-estimator-id-1\" type=\"checkbox\" ><label for=\"sk-estimator-id-1\" class=\"sk-toggleable__label sk-toggleable__label-arrow\">GridSearchCV</label><div class=\"sk-toggleable__content\"><pre>GridSearchCV(cv=5,\n",
       "             estimator=Pipeline(steps=[(&#x27;scaler&#x27;, StandardScaler()),\n",
       "                                       (&#x27;randomforest&#x27;,\n",
       "                                        RandomForestClassifier())]),\n",
       "             param_grid={&#x27;randomforest__max_depth&#x27;: [3, 5, 7],\n",
       "                         &#x27;randomforest__min_samples_split&#x27;: [2, 5, 10]})</pre></div></div></div><div class=\"sk-parallel\"><div class=\"sk-parallel-item\"><div class=\"sk-item\"><div class=\"sk-label-container\"><div class=\"sk-label sk-toggleable\"><input class=\"sk-toggleable__control sk-hidden--visually\" id=\"sk-estimator-id-2\" type=\"checkbox\" ><label for=\"sk-estimator-id-2\" class=\"sk-toggleable__label sk-toggleable__label-arrow\">estimator: Pipeline</label><div class=\"sk-toggleable__content\"><pre>Pipeline(steps=[(&#x27;scaler&#x27;, StandardScaler()),\n",
       "                (&#x27;randomforest&#x27;, RandomForestClassifier())])</pre></div></div></div><div class=\"sk-serial\"><div class=\"sk-item\"><div class=\"sk-serial\"><div class=\"sk-item\"><div class=\"sk-estimator sk-toggleable\"><input class=\"sk-toggleable__control sk-hidden--visually\" id=\"sk-estimator-id-3\" type=\"checkbox\" ><label for=\"sk-estimator-id-3\" class=\"sk-toggleable__label sk-toggleable__label-arrow\">StandardScaler</label><div class=\"sk-toggleable__content\"><pre>StandardScaler()</pre></div></div></div><div class=\"sk-item\"><div class=\"sk-estimator sk-toggleable\"><input class=\"sk-toggleable__control sk-hidden--visually\" id=\"sk-estimator-id-4\" type=\"checkbox\" ><label for=\"sk-estimator-id-4\" class=\"sk-toggleable__label sk-toggleable__label-arrow\">RandomForestClassifier</label><div class=\"sk-toggleable__content\"><pre>RandomForestClassifier()</pre></div></div></div></div></div></div></div></div></div></div></div></div>"
      ],
      "text/plain": [
       "GridSearchCV(cv=5,\n",
       "             estimator=Pipeline(steps=[('scaler', StandardScaler()),\n",
       "                                       ('randomforest',\n",
       "                                        RandomForestClassifier())]),\n",
       "             param_grid={'randomforest__max_depth': [3, 5, 7],\n",
       "                         'randomforest__min_samples_split': [2, 5, 10]})"
      ]
     },
     "execution_count": 12,
     "metadata": {},
     "output_type": "execute_result"
    }
   ],
   "source": [
    "# use this cell to train models\n",
    "\n",
    "credit_pipe = Pipeline([\n",
    "    (\"scaler\", StandardScaler()),\n",
    "    (\"randomforest\",RandomForestClassifier(criterion = \"gini\"))\n",
    "\n",
    "])\n",
    "credit_parameter_grid = {\n",
    "    \"randomforest__max_depth\":[3,5,7],\n",
    "    \"randomforest__min_samples_split\":[2,5,10]\n",
    "}\n",
    "credit_randomforestgrid = (GridSearchCV(credit_pipe,credit_parameter_grid,cv = 5))\n",
    "credit_randomforestgrid.fit(X_train,y_train)"
   ]
  },
  {
   "cell_type": "code",
   "execution_count": null,
   "metadata": {},
   "outputs": [],
   "source": []
  },
  {
   "cell_type": "markdown",
   "metadata": {},
   "source": [
    "To submit your model to the autograder, you will need to [serialize](https://scikit-learn.org/stable/model_persistence.html) them. In the following cell, replace `_____` with the model you have found."
   ]
  },
  {
   "cell_type": "code",
   "execution_count": 13,
   "metadata": {},
   "outputs": [
    {
     "data": {
      "text/plain": [
       "['fraud_detector.joblib']"
      ]
     },
     "execution_count": 13,
     "metadata": {},
     "output_type": "execute_result"
    }
   ],
   "source": [
    "dump(credit_randomforestgrid, \"fraud_detector.joblib\")\n"
   ]
  },
  {
   "cell_type": "markdown",
   "metadata": {},
   "source": [
    "After you run this cell, a file will be written in the same folder as this notebook that you should submit to the autograder. See the relevant question in the relevant lab on PrairieLearn.\n",
    "\n",
    "- [Lab 06: Building a Fraud Detector](https://us.prairielearn.com/pl/course_instance/140731/assessment_instance/6332208)"
   ]
  },
  {
   "cell_type": "markdown",
   "metadata": {},
   "source": [
    "## Discussion"
   ]
  },
  {
   "cell_type": "code",
   "execution_count": null,
   "metadata": {},
   "outputs": [],
   "source": [
    "# use this cell to create and print any supporting statistics\n",
    "# the autograder will give you tn, fp, fn, tp for the test data\n",
    "# with that information, you can calculate any and all relevant metrics\n"
   ]
  },
  {
   "cell_type": "markdown",
   "metadata": {},
   "source": [
    "**Graded discussion:** Do you think that your model is good enough for a bank to use in production? Justify your answer? Describe the potential real-world risks of both false positives and false negatives in this case."
   ]
  },
  {
   "attachments": {},
   "cell_type": "markdown",
   "metadata": {},
   "source": [
    "Yes I do, the prarielearn autograder gave me 2 false positives and 20 false negatives. I think it is far better to have a false negative than to have a false positive. For example, were we to use this it is okay to accidentally label a good person with fraud, but very bad to label a fraudster with a good label. "
   ]
  },
  {
   "cell_type": "markdown",
   "metadata": {},
   "source": [
    "## Submission"
   ]
  },
  {
   "cell_type": "markdown",
   "metadata": {},
   "source": [
    "Before submitting, please review the [**Lab Policy** document](https://cs307.org/lab.html) on the course website. This document contains additional directions for completing and submitting your lab. It also defines the grading rubric for the lab.\n",
    "\n",
    "**Be sure that you have added your name at the top of this notebook.**\n",
    "\n",
    "Once you've reviewed the lab policy document, head to [**Canvas**](https://canvas.illinois.edu) to submit your lab notebook."
   ]
  }
 ],
 "metadata": {
  "kernelspec": {
   "display_name": "base",
   "language": "python",
   "name": "python3"
  },
  "language_info": {
   "codemirror_mode": {
    "name": "ipython",
    "version": 3
   },
   "file_extension": ".py",
   "mimetype": "text/x-python",
   "name": "python",
   "nbconvert_exporter": "python",
   "pygments_lexer": "ipython3",
   "version": "3.9.12"
  },
  "orig_nbformat": 4,
  "vscode": {
   "interpreter": {
    "hash": "3cde8ac579ced2d7dbf4e9d3b2447792dc9583fc97921842fc1c6f410591f347"
   }
  }
 },
 "nbformat": 4,
 "nbformat_minor": 2
}
