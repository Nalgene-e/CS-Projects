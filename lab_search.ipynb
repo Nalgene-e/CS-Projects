{
 "cells": [
  {
   "cell_type": "code",
   "execution_count": 3,
   "metadata": {
    "collapsed": false,
    "jupyter": {
     "outputs_hidden": false
    }
   },
   "outputs": [],
   "source": [
    "from utils import List277"
   ]
  },
  {
   "cell_type": "markdown",
   "metadata": {
    "id": "bQw3Lt_YDJMf"
   },
   "source": [
    "# Binary Search\n"
   ]
  },
  {
   "cell_type": "code",
   "execution_count": 4,
   "metadata": {
    "id": "pwglZiavDGqQ"
   },
   "outputs": [],
   "source": [
    "#grade\n",
    "\n",
    "# INPUT:\n",
    "# names is an array of names (list[str])\n",
    "# search_name is the name we're searching for (str)\n",
    "# OUTPUT:\n",
    "# the index of the name or -1 if we can't find it (int)\n",
    "def binary_search(names, search_name):\n",
    "    lower = 0 \n",
    "    upper = len(names)-1\n",
    "    midpoint = 0 \n",
    "    while lower <= upper:\n",
    "        midpoint  = (upper+lower)//2\n",
    "        place = names[midpoint]\n",
    "        if place<search_name:\n",
    "            lower = midpoint+1\n",
    "        elif place>search_name:\n",
    "            upper = midpoint -1\n",
    "        else:\n",
    "            return midpoint\n",
    "    return -1\n"
   ]
  },
  {
   "cell_type": "code",
   "execution_count": 5,
   "metadata": {},
   "outputs": [
    {
     "name": "stdout",
     "output_type": "stream",
     "text": [
      "Binary Search\n",
      "0\n",
      "2\n",
      "4\n"
     ]
    }
   ],
   "source": [
    "print(\"Binary Search\")\n",
    "last_names = List277(['Challen', 'Evans', 'Fleck', 'Silva', 'Solomon'])\n",
    "print(binary_search(last_names, \"Challen\")) # 0\n",
    "print(last_names.get_count) # 2\n",
    "print(binary_search(last_names, \"Solomon\")) # 4"
   ]
  },
  {
   "cell_type": "markdown",
   "metadata": {
    "id": "W33d-3H5DW9P"
   },
   "source": [
    "# Binary Range Search\n"
   ]
  },
  {
   "cell_type": "code",
   "execution_count": 6,
   "metadata": {
    "id": "EhSHfRG_Dc-e"
   },
   "outputs": [],
   "source": [
    "#grade\n",
    "\n",
    "# INPUT:\n",
    "# numbers is an array of numbers (list[int])\n",
    "# search_num is the number we're searching for (int)\n",
    "# OUTPUT:\n",
    "# the start and end indexes (int, int)\n",
    "def binary_range_search(numbers, search_num):\n",
    "    index = binary_search(numbers, search_num)\n",
    "    newnumbers = numbers\n",
    "    place = newnumbers[index]\n",
    "    upper = index\n",
    "    lower = index\n",
    "    while upper< len(newnumbers)-1 and newnumbers[upper+1] == place:\n",
    "        upper+=1\n",
    "    while lower>=0 and newnumbers[lower-1] == place:\n",
    "        lower-=1\n",
    "        \n",
    "        \n",
    "    return lower, upper\n"
   ]
  },
  {
   "cell_type": "code",
   "execution_count": null,
   "metadata": {},
   "outputs": [],
   "source": []
  },
  {
   "cell_type": "code",
   "execution_count": 7,
   "metadata": {},
   "outputs": [
    {
     "name": "stdout",
     "output_type": "stream",
     "text": [
      "Binary Range Search\n",
      "17 17\n",
      "7\n",
      "10 10\n",
      "2 7\n",
      "3 3\n",
      "14 14\n",
      "6 6\n",
      "15 16\n",
      "7 7\n",
      "-1 -1\n"
     ]
    }
   ],
   "source": [
    "print(\"Binary Range Search\")\n",
    "numbers = List277([1, 2, 3, 3, 3, 3, 3, 3, 4, 4, 4, 5, 5, 5, 6, 7, 7, 10])\n",
    "first, last = binary_range_search(numbers, 10)\n",
    "print(first, last) # 17,17\n",
    "print(numbers.get_count) # 10\n",
    "print(numbers[first], numbers[last]) # 10,10\n",
    "\n",
    "first, last = binary_range_search(numbers, 3) \n",
    "print(first, last) # 2,7\n",
    "print(numbers[first], numbers[last]) # 3,3\n",
    "first, last = binary_range_search(numbers, 6)\n",
    "print(first, last) # 14,14\n",
    "print(numbers[first], numbers[last]) # 6,6\n",
    "first, last = binary_range_search(numbers, 7)\n",
    "print(first, last)  # 15,16\n",
    "print(numbers[first], numbers[last])# 7,7\n",
    "first, last = binary_range_search(numbers, 8)\n",
    "print(first, last) # -1,-1"
   ]
  },
  {
   "cell_type": "code",
   "execution_count": null,
   "metadata": {
    "id": "W-Jd9m7kDiPR",
    "pycharm": {
     "is_executing": true
    }
   },
   "outputs": [],
   "source": [
    "print(\"Binary Search\")\n",
    "last_names = List277(['Challen', 'Evans', 'Fleck', 'Silva', 'Solomon'])\n",
    "print(binary_search(last_names, \"Challen\")) # 0\n",
    "print(last_names.get_count) # 2\n",
    "print(binary_search(last_names, \"Solomon\")) # 4\n",
    "\n",
    "print(\"Binary Range Search\")\n",
    "numbers = List277([1, 2, 3, 3, 3, 3, 3, 3, 4, 4, 4, 5, 5, 5, 6, 7, 7, 10])\n",
    "first, last = binary_range_search(numbers, 10)\n",
    "print(first, last) # 17,17\n",
    "print(numbers.get_count) # 10\n",
    "print(numbers[first], numbers[last]) # 10,10\n",
    "\n",
    "first, last = binary_range_search(numbers, 3) \n",
    "print(first, last) # 2,7\n",
    "print(numbers[first], numbers[last]) # 3,3\n",
    "first, last = binary_range_search(numbers, 6)\n",
    "print(first, last) # 14,14\n",
    "print(numbers[first], numbers[last]) # 6,6\n",
    "first, last = binary_range_search(numbers, 7)\n",
    "print(first, last)  # 15,16\n",
    "print(numbers[first], numbers[last])# 7,7\n",
    "first, last = binary_range_search(numbers, 8)\n",
    "print(first, last) # -1,-1\n"
   ]
  }
 ],
 "metadata": {
  "colab": {
   "provenance": []
  },
  "kernelspec": {
   "display_name": "Python 3",
   "language": "python",
   "name": "python3"
  },
  "language_info": {
   "codemirror_mode": {
    "name": "ipython",
    "version": 3
   },
   "file_extension": ".py",
   "mimetype": "text/x-python",
   "name": "python",
   "nbconvert_exporter": "python",
   "pygments_lexer": "ipython3",
   "version": "3.8.6"
  },
  "vscode": {
   "interpreter": {
    "hash": "1a1af0ee75eeea9e2e1ee996c87e7a2b11a0bebd85af04bb136d915cefc0abce"
   }
  }
 },
 "nbformat": 4,
 "nbformat_minor": 4
}
