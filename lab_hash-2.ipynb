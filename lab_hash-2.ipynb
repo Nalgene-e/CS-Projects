{
 "cells": [
  {
   "cell_type": "markdown",
   "metadata": {
    "id": "1J5GBNWwu85G"
   },
   "source": [
    "# Assignment Description\n",
    "Hashing is one of the most important concepts in computer science (and my personal favorite topic). A well-defined general hash function converts any object in the universe into a clear numeric address that can then be used to store the relevant details of that object. And – if this is done well – all of this can be done in near-constant time!\n",
    "\n",
    "In this lab, you will be tasked with implementing insert and find for three different hashing strategies discussed in class. You are strongly encouraged to play around with the size of the hash table you are building, the hash functions you are using, as well as the contents of what you are passing in (the provided code contains multiple examples)."
   ]
  },
  {
   "cell_type": "code",
   "execution_count": 1,
   "metadata": {
    "id": "aWi5wloOty0_"
   },
   "outputs": [],
   "source": [
    "def h1(x, m):\n",
    "    sum = 0\n",
    "    for c in x:\n",
    "        sum += ord(c)\n",
    "    \n",
    "    return sum % m\n",
    "\n",
    "def h2(x, m):\n",
    "    vowels = ['a', 'e', 'i', 'o', 'u', 'y']\n",
    "    sum = 0\n",
    "    for c in x:\n",
    "        if c in vowels:\n",
    "            sum+=1\n",
    "    \n",
    "    return sum % m\n",
    "\n",
    "def h3(x, m):\n",
    "    return ord(x[0]) % m"
   ]
  },
  {
   "cell_type": "markdown",
   "metadata": {
    "id": "jiEUIdLCuDAf"
   },
   "source": [
    "# Part 1: Separate Chaining\n"
   ]
  },
  {
   "cell_type": "code",
   "execution_count": 2,
   "metadata": {
    "id": "oKwnYAbPt3l-"
   },
   "outputs": [],
   "source": [
    "#grade\n",
    "import numpy as np\n",
    "\n",
    "# INPUT:\n",
    "# A list of strings, inList\n",
    "# A hash function, hash (provided as h1, h2, or h3)\n",
    "# An integer m defining the intended size of the output list\n",
    "# OUTPUT:\n",
    "# Strings stored as a list of lists (hashed with separate chaining)\n",
    "\n",
    "\n",
    "def hash_chain(inList, hash, m):\n",
    "    matrix = []\n",
    "    placelist = []\n",
    "    count = 0\n",
    "    for i in range(m):\n",
    "        matrix.insert(0,[])\n",
    "    for i in range(len(inList)):\n",
    "        place = hash(inList[i],m)\n",
    "        placelist.append(place)\n",
    "    for i in placelist:\n",
    "        matrix[i].insert(0,inList[count])\n",
    "        count+=1\n",
    "    return(matrix)\n",
    "    #print(placelist)"
   ]
  },
  {
   "cell_type": "code",
   "execution_count": 3,
   "metadata": {},
   "outputs": [
    {
     "name": "stdout",
     "output_type": "stream",
     "text": [
      "Hash vals\n",
      "[5, 0, 9, 2, 12, 4, 10, 5, 0, 9]\n",
      "[1, 1, 2, 1, 1, 1, 2, 2, 2, 1]\n",
      "[0, 1, 2, 3, 4, 5, 6, 7, 8, 9]\n",
      "Chain\n",
      "[[], ['John', 'Frank', 'Elsa', 'Dan', 'Brad', 'Anna'], ['Isaac', 'Hannah', 'Ginny', 'Cindy'], [], [], [], [], [], [], [], [], [], []]\n"
     ]
    }
   ],
   "source": [
    "names = [\"Anna\", \"Brad\", \"Cindy\", \"Dan\", \"Elsa\", \"Frank\",\"Ginny\",\"Hannah\",\"Isaac\",\"John\"]\n",
    "\n",
    "h1vals = []\n",
    "h2vals = []\n",
    "h3vals = []\n",
    "print(\"Hash vals\")\n",
    "for n in names:\n",
    "    h1vals.append(h1(n, 13))\n",
    "    h2vals.append(h2(n, 13))\n",
    "    h3vals.append(h3(n, 13))\n",
    "\n",
    "print(h1vals)\n",
    "print(h2vals)\n",
    "print(h3vals)\n",
    "\n",
    "query = \"A2\"\n",
    "query2 = \"Dan\"\n",
    "\n",
    "print(\"Chain\")\n",
    "hc = hash_chain(names, h2, 13)\n",
    "print(hc) # [[], ['Anna', 'Brad', 'Dan', 'Elsa', 'Frank', 'John'], ['Cindy', 'Ginny', 'Hannah', 'Isaac'], [], [], [], [], [], [], [], [], [], []]\n"
   ]
  },
  {
   "cell_type": "code",
   "execution_count": 4,
   "metadata": {
    "id": "-SbOujKiuHwK"
   },
   "outputs": [],
   "source": [
    "#grade\n",
    "\n",
    "# INPUT:\n",
    "# A hash table of size m (produced by hash_chain)\n",
    "# A string, query, being searched for\n",
    "# A hash function, hash (provided as h1, h2, or h3)\n",
    "# An integer m defining the intended size of the output list\n",
    "# OUTPUT:\n",
    "# An integer denoting the number of steps it took to find the query\n",
    "# OR -1 if query was not found.\n",
    "\n",
    "def find_chain(ht, query, hash, m):\n",
    "    hashed = hash(query,m)\n",
    "    count = 0\n",
    "    changed = 0\n",
    "    for i in ht[hashed]:\n",
    "        count+=1\n",
    "        if i == query:\n",
    "            changed +=1\n",
    "            break\n",
    "    if changed == 0:\n",
    "        return -1\n",
    "    else:\n",
    "        return count"
   ]
  },
  {
   "cell_type": "code",
   "execution_count": 5,
   "metadata": {},
   "outputs": [],
   "source": [
    "def find_chai(ht, query, hash, m):\n",
    "    \n",
    "    count=0\n",
    "    changed = 0\n",
    "    for place in ht:\n",
    "        for i in place:\n",
    "            changed =0\n",
    "            #count+=1\n",
    "            if i == query:\n",
    "                count+=1\n",
    "            \n",
    "                if len(place)==1:\n",
    "                    count-=1\n",
    "                    return count\n",
    "                return count\n",
    "                break\n",
    "            changed +=1\n",
    "            \n",
    "            count=0\n",
    "    if changed !=0:\n",
    "        return (-1)\n",
    "    "
   ]
  },
  {
   "cell_type": "code",
   "execution_count": 6,
   "metadata": {},
   "outputs": [
    {
     "name": "stdout",
     "output_type": "stream",
     "text": [
      "[['Isaac', 'Brad'], [], ['Dan'], [], ['Frank'], ['Hannah', 'Anna'], [], [], [], ['John', 'Cindy'], ['Ginny'], [], ['Elsa']]\n",
      "2\n"
     ]
    }
   ],
   "source": [
    "query2= \"Anna\"\n",
    "hc = [['Isaac', 'Brad'], [], ['Dan'], [], ['Frank'], ['Hannah', 'Anna'], [], [], [], ['John', 'Cindy'], ['Ginny'], [], ['Elsa']]\n",
    "print(hc)\n",
    "# print(find_chain(hc, query, h2, 13)) # -1\n",
    "print(find_chain(hc, query2, h1, 13)) # 3"
   ]
  },
  {
   "cell_type": "markdown",
   "metadata": {
    "id": "odQevsLZuLVq"
   },
   "source": [
    "# Part 2: Linear Probing\n"
   ]
  },
  {
   "cell_type": "code",
   "execution_count": 7,
   "metadata": {
    "id": "GnqCmUQKuNA9"
   },
   "outputs": [],
   "source": [
    "#grade\n",
    "\n",
    "# INPUT:\n",
    "# A list of strings, inList\n",
    "# A hash function, hash (provided as h1, h2, or h3)\n",
    "# An integer m defining the intended size of the output list\n",
    "# OUTPUT:\n",
    "# Strings stored as a list (hashed with linear probing)\n",
    "def hash_linear(inList, hash, m):\n",
    "    outlist = []\n",
    "    length = len(inList)\n",
    "    for i in range(m):\n",
    "        outlist.insert(0,None)\n",
    "    print(outlist)\n",
    "    for i in range(length):\n",
    "        hashed = hash(inList[i],m)\n",
    "        if outlist[hashed] == None:\n",
    "            outlist[hashed] = inList[i]\n",
    "        else:\n",
    "            for j in range(m-1):\n",
    "                newhashed  = (hashed+j)%m\n",
    "                if outlist[newhashed] == None:\n",
    "                    outlist[newhashed] = inList[i]\n",
    "                    break\n",
    "                \n",
    "    return outlist"
   ]
  },
  {
   "cell_type": "code",
   "execution_count": 14,
   "metadata": {},
   "outputs": [
    {
     "name": "stdout",
     "output_type": "stream",
     "text": [
      "Hash vals\n",
      "[5, 0, 9, 2, 12, 4, 10, 5, 0, 9]\n",
      "[1, 1, 2, 1, 1, 1, 2, 2, 2, 1]\n",
      "[0, 1, 2, 3, 4, 5, 6, 7, 8, 9]\n",
      "Linear\n",
      "[None, None, None, None, None, None, None, None, None, None, None, None, None]\n",
      "[None, 'Anna', 'Brad', 'Cindy', 'Dan', 'Elsa', 'Frank', 'Ginny', 'Hannah', 'Isaac', 'John', None, None]\n"
     ]
    }
   ],
   "source": [
    "names = [\"Anna\", \"Brad\", \"Cindy\", \"Dan\", \"Elsa\", \"Frank\",\"Ginny\",\"Hannah\",\"Isaac\",\"John\"]\n",
    "\n",
    "h1vals = []\n",
    "h2vals = []\n",
    "h3vals = []\n",
    "print(\"Hash vals\")\n",
    "for n in names:\n",
    "    h1vals.append(h1(n, 13))\n",
    "    h2vals.append(h2(n, 13))\n",
    "    h3vals.append(h3(n, 13))\n",
    "\n",
    "print(h1vals)\n",
    "print(h2vals)\n",
    "print(h3vals)\n",
    "\n",
    "query = \"A2\"\n",
    "query2 = \"Dan\"\n",
    "\n",
    "\n",
    "print(\"Linear\")\n",
    "hl = hash_linear(names, h2, 13)\n",
    "print(hl) # [None, 'Anna', 'Brad', 'Cindy', 'Dan', 'Elsa', 'Frank', 'Ginny', 'Hannah', 'Isaac', 'John', None, None]\n"
   ]
  },
  {
   "cell_type": "code",
   "execution_count": 37,
   "metadata": {
    "id": "wFENwM21uNSs"
   },
   "outputs": [],
   "source": [
    "#grade\n",
    "\n",
    "# INPUT:\n",
    "# A hash table of size m (produced by hash_linear)\n",
    "# A string, query, being searched for\n",
    "# A hash function, hash (provided as h1, h2, or h3)\n",
    "# An integer m defining the intended size of the output list\n",
    "# OUTPUT:\n",
    "# An integer denoting the number of steps it took to find the query\n",
    "# OR -1 if query was not found.\n",
    "                \n",
    "def find_linear(ht, query, hash, m):\n",
    "    k = hash(query,m)\n",
    "    count = 0 \n",
    "    changed = 0\n",
    "    if ht[k] == query:\n",
    "        count+=1\n",
    "        print(count)\n",
    "        changed+=1\n",
    "        #return count\n",
    "        \n",
    "    else:\n",
    "        for j in range(m):\n",
    "            count+=1\n",
    "            if ht[(k+j)%m] == query:\n",
    "                changed+=1\n",
    "                break\n",
    "    if changed ==0:\n",
    "        return -1\n",
    "    else:\n",
    "        return count"
   ]
  },
  {
   "cell_type": "code",
   "execution_count": 38,
   "metadata": {},
   "outputs": [
    {
     "name": "stdout",
     "output_type": "stream",
     "text": [
      "Hash vals\n",
      "[5, 0, 9, 2, 12, 4, 10, 5, 0, 9]\n",
      "[1, 1, 2, 1, 1, 1, 2, 2, 2, 1]\n",
      "[0, 1, 2, 3, 4, 5, 6, 7, 8, 9]\n",
      "Linear\n",
      "['Brad', 'Isaac', 'Dan', None, 'Frank', 'Anna', 'Hannah', None, None, 'Cindy', 'Ginny', 'John', 'Elsa']\n",
      "-1\n",
      "1\n",
      "1\n"
     ]
    }
   ],
   "source": [
    "names = [\"Anna\", \"Brad\", \"Cindy\", \"Dan\", \"Elsa\", \"Frank\",\"Ginny\",\"Hannah\",\"Isaac\",\"John\"]\n",
    "\n",
    "h1vals = []\n",
    "h2vals = []\n",
    "h3vals = []\n",
    "print(\"Hash vals\")\n",
    "for n in names:\n",
    "    h1vals.append(h1(n, 13))\n",
    "    h2vals.append(h2(n, 13))\n",
    "    h3vals.append(h3(n, 13))\n",
    "\n",
    "print(h1vals)\n",
    "print(h2vals)\n",
    "print(h3vals)\n",
    "\n",
    "query = \"A2\"\n",
    "query2 = \"Anna\"\n",
    "\n",
    "\n",
    "\n",
    "print(\"Linear\")\n",
    "hl = ['Brad', 'Isaac', 'Dan', None, 'Frank', 'Anna', 'Hannah', None, None, 'Cindy', 'Ginny', 'John', 'Elsa']\n",
    "print(hl) # [None, 'Anna', 'Brad', 'Cindy', 'Dan', 'Elsa', 'Frank', 'Ginny', 'Hannah', 'Isaac', 'John', None, None]\n",
    "print(find_linear(hl, query, h2, 13)) # -1\n",
    "print(find_linear(hl, query2, h1, 13)) # 4"
   ]
  },
  {
   "cell_type": "markdown",
   "metadata": {
    "id": "v7XtruEBuWZv"
   },
   "source": [
    "# Part 3: Double Hashing\n"
   ]
  },
  {
   "cell_type": "code",
   "execution_count": 42,
   "metadata": {
    "id": "Z84xUJR6vPbk"
   },
   "outputs": [],
   "source": [
    "#grade\n",
    "\n",
    "# INPUT:\n",
    "# A list of strings, inList\n",
    "# Two hash functions, h1 and h2\n",
    "# An integer m defining the intended size of the output list\n",
    "# OUTPUT:\n",
    "# Strings stored as a list (hashed with double hashing)\n",
    "\n",
    "def hash_double(inList, h1, h2, m):\n",
    "    outlist = []\n",
    "    for i in range(m):\n",
    "        outlist.insert(0,None)\n",
    "    print(outlist)\n",
    "\n",
    "    for i in range(len(inList)):\n",
    "        k1 = h1(inList[i],m)\n",
    "        k2 = h2(inList[i],m)\n",
    "        if outlist[k1] == None:\n",
    "            outlist[k1] = inList[i]\n",
    "        else:\n",
    "            for j in range(m-1):\n",
    "                newhashed = (k1+(j*k2))%m\n",
    "                if outlist[newhashed] == None:\n",
    "                    outlist[newhashed] = inList[i]\n",
    "                    break\n",
    "    return outlist\n",
    "    "
   ]
  },
  {
   "cell_type": "code",
   "execution_count": 43,
   "metadata": {},
   "outputs": [
    {
     "name": "stdout",
     "output_type": "stream",
     "text": [
      "Hash vals\n",
      "[5, 0, 9, 2, 12, 4, 10, 5, 0, 9]\n",
      "[1, 1, 2, 1, 1, 1, 2, 2, 2, 1]\n",
      "[0, 1, 2, 3, 4, 5, 6, 7, 8, 9]\n",
      "Double\n",
      "[None, None, None, None, None, None, None, None, None, None, None, None, None]\n",
      "[None, 'Anna', 'Brad', None, 'Cindy', 'Elsa', 'Frank', 'Dan', 'Ginny', 'Hannah', 'Isaac', 'John', None]\n",
      "None\n",
      "None\n"
     ]
    }
   ],
   "source": [
    "names = [\"Anna\", \"Brad\", \"Cindy\", \"Dan\", \"Elsa\", \"Frank\",\"Ginny\",\"Hannah\",\"Isaac\",\"John\"]\n",
    "\n",
    "h1vals = []\n",
    "h2vals = []\n",
    "h3vals = []\n",
    "print(\"Hash vals\")\n",
    "for n in names:\n",
    "    h1vals.append(h1(n, 13))\n",
    "    h2vals.append(h2(n, 13))\n",
    "    h3vals.append(h3(n, 13))\n",
    "\n",
    "print(h1vals)\n",
    "print(h2vals)\n",
    "print(h3vals)\n",
    "\n",
    "query = \"A2\"\n",
    "query2 = \"Dan\"\n",
    "\n",
    "\n",
    "print(\"Double\")\n",
    "hd = hash_double(names, h2, h3, 13)\n",
    "print(hd) # \"[None, 'Anna', 'Brad', None, 'Cindy', 'Elsa', 'Frank', 'Dan', None, 'Hannah', 'Isaac', 'John', None]\"\n",
    "print(find_double(hd, query, h2, h3, 13)) # -1\n",
    "print(find_double(hd, query2, h2, h3, 13)) # 3\n"
   ]
  },
  {
   "cell_type": "code",
   "execution_count": 48,
   "metadata": {
    "id": "bphkO7HhuX2e"
   },
   "outputs": [],
   "source": [
    "#grade\n",
    "\n",
    "# INPUT:\n",
    "# A hash table of size m (produced by hash_linear)\n",
    "# A string, query, being searched for\n",
    "# Two hash functions, h1 and h2\n",
    "# An integer m defining the intended size of the output list\n",
    "# OUTPUT:\n",
    "# An integer denoting the number of steps it took to find the query\n",
    "# OR -1 if query was not found.\n",
    "\n",
    "def find_double(ht, query, h1, h2, m):\n",
    "    k1 = h1(query,m)\n",
    "    k2 = h2(query,m)\n",
    "    count = 0\n",
    "    changed = 0 \n",
    "    if ht[k1] == query:\n",
    "        count +=1\n",
    "        changed +=1\n",
    "    else:\n",
    "        for j in range(m):\n",
    "            count+=1\n",
    "            if ht[(k1+(j*k2))%m] == query:\n",
    "                changed+=1\n",
    "                break\n",
    "    if changed == 0:\n",
    "        return -1\n",
    "    else:\n",
    "        return count\n",
    "            \n"
   ]
  },
  {
   "cell_type": "code",
   "execution_count": 49,
   "metadata": {
    "id": "bLNLdj0ku0-m"
   },
   "outputs": [
    {
     "name": "stdout",
     "output_type": "stream",
     "text": [
      "Hash vals\n",
      "[5, 0, 9, 2, 12, 4, 10, 5, 0, 9]\n",
      "[1, 1, 2, 1, 1, 1, 2, 2, 2, 1]\n",
      "[0, 1, 2, 3, 4, 5, 6, 7, 8, 9]\n",
      "Chain\n",
      "[[], ['John', 'Frank', 'Elsa', 'Dan', 'Brad', 'Anna'], ['Isaac', 'Hannah', 'Ginny', 'Cindy'], [], [], [], [], [], [], [], [], [], []]\n",
      "-1\n",
      "4\n",
      "Linear\n",
      "[None, None, None, None, None, None, None, None, None, None, None, None, None]\n",
      "[None, 'Anna', 'Brad', 'Cindy', 'Dan', 'Elsa', 'Frank', 'Ginny', 'Hannah', 'Isaac', 'John', None, None]\n",
      "-1\n",
      "4\n",
      "Double\n",
      "[None, None, None, None, None, None, None, None, None, None, None, None, None]\n",
      "[None, 'Anna', 'Brad', None, 'Cindy', 'Elsa', 'Frank', 'Dan', 'Ginny', 'Hannah', 'Isaac', 'John', None]\n",
      "-1\n",
      "3\n"
     ]
    }
   ],
   "source": [
    "names = [\"Anna\", \"Brad\", \"Cindy\", \"Dan\", \"Elsa\", \"Frank\",\"Ginny\",\"Hannah\",\"Isaac\",\"John\"]\n",
    "\n",
    "h1vals = []\n",
    "h2vals = []\n",
    "h3vals = []\n",
    "print(\"Hash vals\")\n",
    "for n in names:\n",
    "    h1vals.append(h1(n, 13))\n",
    "    h2vals.append(h2(n, 13))\n",
    "    h3vals.append(h3(n, 13))\n",
    "\n",
    "print(h1vals)\n",
    "print(h2vals)\n",
    "print(h3vals)\n",
    "\n",
    "query = \"A2\"\n",
    "query2 = \"Dan\"\n",
    "\n",
    "print(\"Chain\")\n",
    "hc = hash_chain(names, h2, 13)\n",
    "print(hc) # [[], ['Anna', 'Brad', 'Dan', 'Elsa', 'Frank', 'John'], ['Cindy', 'Ginny', 'Hannah', 'Isaac'], [], [], [], [], [], [], [], [], [], []]\n",
    "print(find_chain(hc, query, h2, 13)) # -1\n",
    "print(find_chain(hc, query2, h2, 13)) # 3\n",
    "\n",
    "\n",
    "print(\"Linear\")\n",
    "hl = hash_linear(names, h2, 13)\n",
    "print(hl) # [None, 'Anna', 'Brad', 'Cindy', 'Dan', 'Elsa', 'Frank', 'Ginny', 'Hannah', 'Isaac', 'John', None, None]\n",
    "print(find_linear(hl, query, h2, 13)) # -1\n",
    "print(find_linear(hl, query2, h2, 13)) # 4\n",
    "\n",
    "\n",
    "print(\"Double\")\n",
    "hd = hash_double(names, h2, h3, 13)\n",
    "print(hd) # \"[None, 'Anna', 'Brad', None, 'Cindy', 'Elsa', 'Frank', 'Dan', None, 'Hannah', 'Isaac', 'John', None]\"\n",
    "print(find_double(hd, query, h2, h3, 13)) # -1\n",
    "print(find_double(hd, query2, h2, h3, 13)) # 3\n"
   ]
  },
  {
   "cell_type": "code",
   "execution_count": null,
   "metadata": {
    "id": "zWZXStYyvAwc"
   },
   "outputs": [],
   "source": []
  },
  {
   "cell_type": "code",
   "execution_count": null,
   "metadata": {},
   "outputs": [],
   "source": []
  },
  {
   "cell_type": "code",
   "execution_count": null,
   "metadata": {},
   "outputs": [],
   "source": []
  },
  {
   "cell_type": "code",
   "execution_count": null,
   "metadata": {},
   "outputs": [],
   "source": []
  },
  {
   "cell_type": "code",
   "execution_count": null,
   "metadata": {},
   "outputs": [],
   "source": []
  }
 ],
 "metadata": {
  "colab": {
   "provenance": []
  },
  "kernelspec": {
   "display_name": "Python 3",
   "language": "python",
   "name": "python3"
  },
  "language_info": {
   "codemirror_mode": {
    "name": "ipython",
    "version": 3
   },
   "file_extension": ".py",
   "mimetype": "text/x-python",
   "name": "python",
   "nbconvert_exporter": "python",
   "pygments_lexer": "ipython3",
   "version": "3.8.6"
  }
 },
 "nbformat": 4,
 "nbformat_minor": 4
}
