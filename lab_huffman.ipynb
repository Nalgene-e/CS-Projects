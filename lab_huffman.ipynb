{
 "cells": [
  {
   "cell_type": "code",
   "execution_count": 1,
   "metadata": {},
   "outputs": [],
   "source": [
    "from utils import bstNode"
   ]
  },
  {
   "cell_type": "markdown",
   "metadata": {},
   "source": [
    "The following print functions have been provided to assist you in debugging your code. **You do not need to edit these functions**"
   ]
  },
  {
   "cell_type": "code",
   "execution_count": 2,
   "metadata": {},
   "outputs": [],
   "source": [
    "# INPUT:\n",
    "# A bstNode object storing the root of the tree being printed (root)\n",
    "# OUTPUT:\n",
    "# Nothing\n",
    "# Prints to terminal an ASCII interpretation of the graph\n",
    "def vertPrintTree(node, depth=0):\n",
    "    if node != None:\n",
    "        vertPrintTree(node.right, depth + 1)\n",
    "        print(' ' * 4 * depth + '|--' + str(node))\n",
    "        vertPrintTree(node.left, depth + 1)\n",
    "\n",
    "# INPUT:\n",
    "# A treeNode object storing the root of the tree being measured (node)\n",
    "# OUTPUT:\n",
    "# An integer storing the height of the tree defined by root\n",
    "# Hint: A recursive solution is easiest (as seen in class)!\n",
    "def height(node):\n",
    "    if node == None:\n",
    "        return -1\n",
    "\n",
    "    return 1 + max(height(node.left), height(node.right))\n",
    "\n",
    "# INPUT:\n",
    "# A bstNode object storing the root of the tree being printed (root)\n",
    "# OUTPUT:\n",
    "# Nothing\n",
    "# Prints to terminal an ASCII interpretation of the graph\n",
    "def printTree(root):\n",
    "    if root == None:\n",
    "        print(\"(empty)\\n\")\n",
    "        return\n",
    "\n",
    "    root_height = height(root)\n",
    "    print_matrix_width = (4 << root_height) - 3\n",
    "    print_matrix_height = 2 * root_height + 1\n",
    "\n",
    "    output = [None]*print_matrix_height\n",
    "    for i in range(len(output)):\n",
    "        output[i] = [' '] * (print_matrix_width+4)\n",
    "\n",
    "    pt_helper(root, output, 0, 0, print_matrix_width)\n",
    "\n",
    "    for row in output:\n",
    "        print(\"\".join(row))\n",
    "\n",
    "def pt_helper(root, output, left, top, curr_width):\n",
    "    val = [char for char in \"'\"+str(root.key)+\"'\"]\n",
    "    curr_width = int(curr_width)\n",
    "\n",
    "    left_start_shift = int(1 - (len(val)-1) / 2)\n",
    "    i = 0\n",
    "    while (i < len(val) and left + curr_width/2 + i < len(output[top])):\n",
    "        output[top][int(left + curr_width/2 +\n",
    "                        left_start_shift + i)] = val[i]\n",
    "        i += 1\n",
    "\n",
    "    branchOffset = (curr_width+3) >> 3\n",
    "    branchOffset = int(branchOffset)\n",
    "\n",
    "    center = int(left + curr_width/2)\n",
    "    leftcenter = int(left + (curr_width/2 - 1)/2)\n",
    "    rightcenter = int(left + curr_width/2 + 2 + (curr_width/2 - 1)/2)\n",
    "\n",
    "    if root.left != None:\n",
    "        branch_pos = center - branchOffset + 1\n",
    "\n",
    "        for pos in range(int(center+left_start_shift - 2), branch_pos, -1):\n",
    "            output[top][pos] = '_'\n",
    "\n",
    "        output[top+1][branch_pos] = '/'\n",
    "\n",
    "        for pos in range(branch_pos-1, leftcenter + 2, -1):\n",
    "            output[top+1][pos] = '_'\n",
    "\n",
    "        pt_helper(root.left, output, left, top+2, curr_width/2 - 1)\n",
    "\n",
    "    if root.right != None:\n",
    "        branch_pos = center + branchOffset + 1\n",
    "\n",
    "        for pos in range(center+left_start_shift + len(val) + 1, branch_pos, 1):\n",
    "            output[top][pos] = '_'\n",
    "\n",
    "        output[top+1][branch_pos] = '\\\\'\n",
    "\n",
    "        for pos in range(branch_pos+1, rightcenter, 1):\n",
    "            output[top+1][pos] = '_'\n",
    "\n",
    "        pt_helper(root.right, output, left +\n",
    "                  curr_width/2 + 2, top+2, curr_width/2 - 1)\n"
   ]
  },
  {
   "cell_type": "markdown",
   "metadata": {},
   "source": [
    "`build_frequency()` has been implemented for you to assist with sorting non-standard objects (like bstNodes)"
   ]
  },
  {
   "cell_type": "code",
   "execution_count": 73,
   "metadata": {},
   "outputs": [],
   "source": [
    "#grade\n",
    "\n",
    "# INPUT:\n",
    "# A string containing the text being processed\n",
    "# Output:\n",
    "# A sorted list of bstNodes\n",
    "def build_frequency(string):\n",
    "    cd = {}\n",
    "    for c in string:\n",
    "        if c in cd.keys():\n",
    "            cd[c]+=1\n",
    "        else:\n",
    "            cd[c]=1\n",
    "    out = []\n",
    "    for k in cd.keys():\n",
    "        out.append(bstNode(k, cd[k]))\n",
    "    \n",
    "    out.sort(key=lambda x: x.val) # This will sort by the second element in the tuple (the value)\n",
    "    return out\n",
    "\n",
    "# Input:\n",
    "# Two (potentially empty) lists of bstNodes\n",
    "# The lists are sorted based on the values of the bstNodes (frequencies)\n",
    "# Output\n",
    "# A bstNode containing the smallest frequency in either list\n",
    "\n",
    "def getSmallest(single, merge):\n",
    "    listed = []\n",
    "    \n",
    "    if len(single) == 0:\n",
    "        return merge[0]\n",
    "    if len(merge) == 0:\n",
    "        return single[0]\n",
    "    if merge[0].val >= single[0].val:\n",
    "        return single[0]\n",
    "    if single[0].val >= merge[0].val:\n",
    "        return merge[0]\n",
    "# Input:\n",
    "# A string storing the input string being encoded (instring)\n",
    "# Output\n",
    "# A bstNode storing the root of the full Huffman Tree\n",
    "\n",
    "def buildHuffman(string):\n",
    "    pass\n",
    "def buildHuffmn(string):\n",
    "    single = build_frequency(string)\n",
    "    merge = []\n",
    "\n",
    "    while len(merge) != 1 or len(single) > 0:\n",
    "        place = getSmallest(single, merge)\n",
    "        if place in single:\n",
    "            single.remove(single[0])\n",
    "        else:\n",
    "            merge.remove(merge[0])\n",
    "        place2 = getSmallest(single, merge)\n",
    "        if place2 in single:\n",
    "            single.remove(single[0])\n",
    "        else:\n",
    "            merge.remove(merge[0])\n",
    "        merge.append(bstNode(place.key+place2.key, place.val+place2.val, left=place, right=place2))\n",
    "    \n",
    "    return merge[0]"
   ]
  },
  {
   "cell_type": "code",
   "execution_count": null,
   "metadata": {},
   "outputs": [],
   "source": []
  },
  {
   "cell_type": "code",
   "execution_count": 66,
   "metadata": {},
   "outputs": [
    {
     "data": {
      "text/plain": [
       "[(str='o',freq=1),\n",
       " (str='h',freq=1),\n",
       " (str='n',freq=1),\n",
       " (str='a',freq=1),\n",
       " (str='m',freq=1),\n",
       " (str='e',freq=1),\n",
       " (str='j',freq=2)]"
      ]
     },
     "execution_count": 66,
     "metadata": {},
     "output_type": "execute_result"
    }
   ],
   "source": [
    "build_frequency(\"johnjame\")"
   ]
  },
  {
   "cell_type": "code",
   "execution_count": 67,
   "metadata": {},
   "outputs": [],
   "source": [
    "t = buildHuffman(\"beep beep ima sheep\")\n",
    "t\n",
    "# printTree(t)"
   ]
  },
  {
   "cell_type": "code",
   "execution_count": 72,
   "metadata": {},
   "outputs": [],
   "source": [
    "#grade\n",
    "\n",
    "# INPUT:\n",
    "# a bstNode storing the root of the huffman tree (node)\n",
    "# a string storing the current encoding for the current node (code)\n",
    "# a dictionary storing all binary encodings for each character (outDict)\n",
    "# Output:\n",
    "# None\n",
    "# Instead outDict gets modified every time you reach a leaf\n",
    "# (So after completing the function the dictionary has a key for every character)\n",
    "def buildEncoder(node, code, outDict):\n",
    "    if node == None:\n",
    "        return\n",
    "    i= 0 \n",
    "    if node.left is None:\n",
    "        i+=1\n",
    "    if node.right is None:\n",
    "        i+=1\n",
    "    if i == 2:\n",
    "        outDict[node.key] = code\n",
    "    else:\n",
    "        buildEncoder(node.left, code + '0', outDict)\n",
    "        buildEncoder(node.right, code + '1', outDict)\n",
    "\n",
    "# INPUT:\n",
    "# a string storing the input string being encoded (instring)\n",
    "# Output:\n",
    "# A pair of outputs\n",
    "# The first output is the Huffman Tree built on the string\n",
    "# The second output is the actual encoded message as a string of 1s and 0s\n",
    "# This function is given to you to make debugging easier\n",
    "# and to demonstrate the intended usecase of buildHuffman and buildEncoder\n",
    "def encode(instring):\n",
    "    t=buildHuffman(instring)\n",
    "\n",
    "    d = {}\n",
    "    buildEncoder(t, \"\", d)\n",
    "    out = \"\"\n",
    "    for c in instring:\n",
    "        out+=d[c]\n",
    "    return t, out"
   ]
  },
  {
   "cell_type": "markdown",
   "metadata": {},
   "source": [
    "This is a purely optional set of functions -- consider how you could decode a huffman code given the Huffman Tree!"
   ]
  },
  {
   "cell_type": "code",
   "execution_count": 69,
   "metadata": {},
   "outputs": [],
   "source": [
    "# INPUT:\n",
    "# a bstNode containing the root of a HuffmanTree\n",
    "# a string containing the encoded message (being decoded)\n",
    "# Output:\n",
    "# a string containing the decoded message\n",
    "def decode(root, string):\n",
    "    return \"\"\n",
    "\n",
    "# INPUT:\n",
    "# a bstNode containing the root of a HuffmanTree\n",
    "# a list containing the encoded message where every bit is a value in the list\n",
    "# Output:\n",
    "# a string containing the next decoded character\n",
    "# HINT: To do decode (in Python), it is best to convert the string to a list\n",
    "# Why do we need a list as an argument instead of a string?\n",
    "def decode_next_char(root, bitlist):\n",
    "    return \"\"\n"
   ]
  },
  {
   "cell_type": "markdown",
   "metadata": {},
   "source": [
    "## Example Outputs Below"
   ]
  },
  {
   "cell_type": "code",
   "execution_count": 70,
   "metadata": {},
   "outputs": [
    {
     "name": "stdout",
     "output_type": "stream",
     "text": [
      "(empty)\n",
      "\n"
     ]
    },
    {
     "ename": "AttributeError",
     "evalue": "'NoneType' object has no attribute 'left'",
     "output_type": "error",
     "traceback": [
      "\u001b[0;31m---------------------------------------------------------------------------\u001b[0m",
      "\u001b[0;31mAttributeError\u001b[0m                            Traceback (most recent call last)",
      "\u001b[0;32m<ipython-input-70-27666542bba2>\u001b[0m in \u001b[0;36m<module>\u001b[0;34m\u001b[0m\n\u001b[1;32m     14\u001b[0m '''\n\u001b[1;32m     15\u001b[0m \u001b[0;34m\u001b[0m\u001b[0m\n\u001b[0;32m---> 16\u001b[0;31m \u001b[0mt\u001b[0m\u001b[0;34m,\u001b[0m \u001b[0mmessage\u001b[0m \u001b[0;34m=\u001b[0m \u001b[0mencode\u001b[0m\u001b[0;34m(\u001b[0m\u001b[0minput\u001b[0m\u001b[0;34m)\u001b[0m \u001b[0;31m#encode should call buildHuffman and produce the same tree\u001b[0m\u001b[0;34m\u001b[0m\u001b[0;34m\u001b[0m\u001b[0m\n\u001b[0m\u001b[1;32m     17\u001b[0m \u001b[0mprint\u001b[0m\u001b[0;34m(\u001b[0m\u001b[0mmessage\u001b[0m\u001b[0;34m)\u001b[0m \u001b[0;31m# Output: 0011010110111001101011011101000101011011101110001010110\u001b[0m\u001b[0;34m\u001b[0m\u001b[0;34m\u001b[0m\u001b[0m\n\u001b[1;32m     18\u001b[0m \u001b[0;34m\u001b[0m\u001b[0m\n",
      "\u001b[0;32m<ipython-input-68-a09712c4f0ca>\u001b[0m in \u001b[0;36mencode\u001b[0;34m(instring)\u001b[0m\n\u001b[1;32m     33\u001b[0m \u001b[0;34m\u001b[0m\u001b[0m\n\u001b[1;32m     34\u001b[0m     \u001b[0md\u001b[0m \u001b[0;34m=\u001b[0m \u001b[0;34m{\u001b[0m\u001b[0;34m}\u001b[0m\u001b[0;34m\u001b[0m\u001b[0;34m\u001b[0m\u001b[0m\n\u001b[0;32m---> 35\u001b[0;31m     \u001b[0mbuildEncoder\u001b[0m\u001b[0;34m(\u001b[0m\u001b[0mt\u001b[0m\u001b[0;34m,\u001b[0m \u001b[0;34m\"\"\u001b[0m\u001b[0;34m,\u001b[0m \u001b[0md\u001b[0m\u001b[0;34m)\u001b[0m\u001b[0;34m\u001b[0m\u001b[0;34m\u001b[0m\u001b[0m\n\u001b[0m\u001b[1;32m     36\u001b[0m     \u001b[0mout\u001b[0m \u001b[0;34m=\u001b[0m \u001b[0;34m\"\"\u001b[0m\u001b[0;34m\u001b[0m\u001b[0;34m\u001b[0m\u001b[0m\n\u001b[1;32m     37\u001b[0m     \u001b[0;32mfor\u001b[0m \u001b[0mc\u001b[0m \u001b[0;32min\u001b[0m \u001b[0minstring\u001b[0m\u001b[0;34m:\u001b[0m\u001b[0;34m\u001b[0m\u001b[0;34m\u001b[0m\u001b[0m\n",
      "\u001b[0;32m<ipython-input-68-a09712c4f0ca>\u001b[0m in \u001b[0;36mbuildEncoder\u001b[0;34m(node, code, outDict)\u001b[0m\n\u001b[1;32m     11\u001b[0m \u001b[0;32mdef\u001b[0m \u001b[0mbuildEncoder\u001b[0m\u001b[0;34m(\u001b[0m\u001b[0mnode\u001b[0m\u001b[0;34m,\u001b[0m \u001b[0mcode\u001b[0m\u001b[0;34m,\u001b[0m \u001b[0moutDict\u001b[0m\u001b[0;34m)\u001b[0m\u001b[0;34m:\u001b[0m\u001b[0;34m\u001b[0m\u001b[0;34m\u001b[0m\u001b[0m\n\u001b[1;32m     12\u001b[0m     \u001b[0mi\u001b[0m\u001b[0;34m=\u001b[0m \u001b[0;36m0\u001b[0m\u001b[0;34m\u001b[0m\u001b[0;34m\u001b[0m\u001b[0m\n\u001b[0;32m---> 13\u001b[0;31m     \u001b[0;32mif\u001b[0m \u001b[0mnode\u001b[0m\u001b[0;34m.\u001b[0m\u001b[0mleft\u001b[0m \u001b[0;32mis\u001b[0m \u001b[0;32mNone\u001b[0m\u001b[0;34m:\u001b[0m\u001b[0;34m\u001b[0m\u001b[0;34m\u001b[0m\u001b[0m\n\u001b[0m\u001b[1;32m     14\u001b[0m         \u001b[0mi\u001b[0m\u001b[0;34m+=\u001b[0m\u001b[0;36m1\u001b[0m\u001b[0;34m\u001b[0m\u001b[0;34m\u001b[0m\u001b[0m\n\u001b[1;32m     15\u001b[0m     \u001b[0;32mif\u001b[0m \u001b[0mnode\u001b[0m\u001b[0;34m.\u001b[0m\u001b[0mright\u001b[0m \u001b[0;32mis\u001b[0m \u001b[0;32mNone\u001b[0m\u001b[0;34m:\u001b[0m\u001b[0;34m\u001b[0m\u001b[0;34m\u001b[0m\u001b[0m\n",
      "\u001b[0;31mAttributeError\u001b[0m: 'NoneType' object has no attribute 'left'"
     ]
    }
   ],
   "source": [
    "input = \"beep beep ima sheep\"\n",
    "t = buildHuffman(\"beep beep ima sheep\")\n",
    "printTree(t)\n",
    "''' 'beep beep ima sheep' contains nine unique characters and forms the following tree:\n",
    "                        _ 'hbimasep ' _                          \n",
    "                 ______/               \\_______                  \n",
    "            'hbimas'                          'ep '              \n",
    "         __/       \\___                   __/       \\__          \n",
    "      'hb'            'imas'           'e'             'p '      \n",
    "     /   \\_           /   \\                           /   \\_     \n",
    "  'h'      'b'     'im'    'as'                    'p'      ' '  \n",
    "                   / \\     / \\                                   \n",
    "                 'i' 'm' 'a'  's'        \n",
    "'''\n",
    "\n",
    "t, message = encode(input) #encode should call buildHuffman and produce the same tree\n",
    "print(message) # Output: 0011010110111001101011011101000101011011101110001010110\n",
    "\n",
    "d = {} # The dictionary is passed in empty\n",
    "buildEncoder(t, \"\", d)\n",
    "# But is modified during buildEncoder\n",
    "# Output: {'h': '000', 'b': '001', 'i': '0100', 'm': '0101', 'a': '0110', 's': '0111', 'e': '10', 'p': '110', ' ': '111'}\n",
    "print(d)"
   ]
  },
  {
   "cell_type": "code",
   "execution_count": null,
   "metadata": {},
   "outputs": [],
   "source": [
    "input=\"abcdefghijklmnopqrstuvwxyz \"\n",
    "t, message = encode(input)\n",
    "print(printTree(t))\n",
    "''' 'abcdefghijklmnopqrstuvwxyz ' contains 27 characters and forms the following tree:\n",
    "                                                 'wxyz abcdefghijklmnopqrstuv'                                                   \n",
    "                                 ______________/                               \\_______________                                  \n",
    "                         'wxyz abcdef'                                                  'ghijklmnopqrstuv'                       \n",
    "                 ______/               \\_______                                   ______/               \\______                  \n",
    "             'wxyz'                         ' abcdef'                       'ghijklmn'                      'opqrstuv'           \n",
    "         __/       \\___                   __/       \\__                   __/       \\__                   __/       \\___         \n",
    "      'wx'             'yz'           ' ab'           'cdef'          'ghij'          'klmn'          'opqr'           'stuv'    \n",
    "     /   \\_           /   \\           /   \\           /   \\_          /   \\           /   \\_          /   \\_           /   \\     \n",
    "  'w'      'x'     'y'     'z'     ' '     'ab'    'cd'     'ef'   'gh'    'ij'    'kl'     'mn'   'op'     'qr'    'st'    'uv' \n",
    "                                           / \\     / \\      / \\    / \\     / \\     / \\      / \\    / \\      / \\     / \\     / \\  \n",
    "                                         'a'  'b''c'  'd' 'e' 'f''g' 'h' 'i'  'j''k'  'l' 'm' 'n''o'  'p' 'q' 'r' 's' 't' 'u'  'v\n",
    "'''\n",
    "# The output message is: 0101001011011000110101110011111000010001100101001110100101011011010111110001100111010110111110011101111101111100000001001000110100\n",
    "print(message)\n",
    "\n",
    "d = {}\n",
    "buildEncoder(t, \"\", d)\n",
    "# The input dictionary is empty but becomes modified in buildEncoder\n",
    "# The output is: {'w': '0000', 'x': '0001', 'y': '0010', 'z': '0011', ' ': '0100', 'a': '01010', 'b': '01011', 'c': '01100', 'd': '01101', 'e': '01110', 'f': '01111', 'g': '10000', 'h': '10001', 'i': '10010', 'j': '10011', 'k': '10100', 'l': '10101', 'm': '10110', 'n': '10111', 'o': '11000', 'p': '11001', 'q': '11010', 'r': '11011', 's': '11100', 't': '11101', 'u': '11110', 'v': '11111'}\n",
    "print(d)"
   ]
  },
  {
   "cell_type": "code",
   "execution_count": null,
   "metadata": {},
   "outputs": [],
   "source": []
  },
  {
   "cell_type": "code",
   "execution_count": null,
   "metadata": {},
   "outputs": [],
   "source": []
  },
  {
   "cell_type": "code",
   "execution_count": null,
   "metadata": {},
   "outputs": [],
   "source": []
  }
 ],
 "metadata": {
  "colab": {
   "provenance": []
  },
  "kernelspec": {
   "display_name": "Python 3",
   "language": "python",
   "name": "python3"
  },
  "language_info": {
   "codemirror_mode": {
    "name": "ipython",
    "version": 3
   },
   "file_extension": ".py",
   "mimetype": "text/x-python",
   "name": "python",
   "nbconvert_exporter": "python",
   "pygments_lexer": "ipython3",
   "version": "3.8.6"
  },
  "vscode": {
   "interpreter": {
    "hash": "1a1af0ee75eeea9e2e1ee996c87e7a2b11a0bebd85af04bb136d915cefc0abce"
   }
  }
 },
 "nbformat": 4,
 "nbformat_minor": 4
}
