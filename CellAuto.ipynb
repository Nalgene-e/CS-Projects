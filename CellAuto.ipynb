{
 "cells": [
  {
   "cell_type": "markdown",
   "metadata": {},
   "source": [
    "The autograder will run with the following imports (and only the following imports). Depending on your notebook setup you may not actually need these imports, but its worth running this once at the start to be sure."
   ]
  },
  {
   "cell_type": "code",
   "execution_count": 2,
   "metadata": {},
   "outputs": [
    {
     "name": "stderr",
     "output_type": "stream",
     "text": [
      "Matplotlib created a temporary config/cache directory at /tmp/matplotlib-bsfgfem2 because the default path (/tmp/cache/matplotlib) is not a writable directory; it is highly recommended to set the MPLCONFIGDIR environment variable to a writable directory, in particular to speed up the import of Matplotlib and to better support multiprocessing.\n"
     ]
    }
   ],
   "source": [
    "import numpy as np\n",
    "import matplotlib.pyplot as plt\n",
    "import matplotlib.animation as animation\n",
    "from matplotlib import colors"
   ]
  },
  {
   "cell_type": "code",
   "execution_count": 23,
   "metadata": {},
   "outputs": [
    {
     "data": {
      "text/plain": [
       "[[0.0, 0.0, 0.0, 0.0, 0.0, 0.0],\n",
       " [0.0, 0.0, 0.0, 0.0, 0.0, 0.0],\n",
       " [0.0, 0.0, 0.0, 0.0, 0.0, 0.0],\n",
       " [0.0, 0.0, 0.0, 0.0, 0.0, 0.0],\n",
       " [0.0, 0.0, 0.0, 0.0, 0.0, 0.0]]"
      ]
     },
     "execution_count": 23,
     "metadata": {},
     "output_type": "execute_result"
    }
   ],
   "source": [
    "#grade\n",
    "\n",
    "#INPUT:\n",
    "# An integer rows storing the number of rows\n",
    "# An integer cols storing the number of columns\n",
    "#OUTPUT:\n",
    "# A list of lists forming a 2D matrix.\n",
    "# The output must be either a numpy.ndarray or a built-in python nested list\n",
    "\n",
    "def emptyMatrix(rows, cols):\n",
    "    finallist = []\n",
    "    for i in range(rows):\n",
    "        finallist.insert(0,[])\n",
    "        \n",
    "    for a in finallist:\n",
    "        \n",
    "        for i in range(cols):\n",
    "            a.insert(0,0.0)\n",
    "\n",
    "    return(finallist)\n",
    "emptyMatrix(5, 6)"
   ]
  },
  {
   "cell_type": "code",
   "execution_count": 26,
   "metadata": {},
   "outputs": [
    {
     "name": "stdout",
     "output_type": "stream",
     "text": [
      "[[0. 0. 0. 0. 0. 0.]\n",
      " [0. 0. 0. 0. 0. 0.]\n",
      " [0. 0. 0. 0. 0. 0.]\n",
      " [0. 0. 0. 0. 0. 0.]\n",
      " [0. 0. 0. 0. 0. 0.]\n",
      " [0. 0. 0. 0. 0. 0.]]\n"
     ]
    },
    {
     "data": {
      "text/plain": [
       "[6, 6]"
      ]
     },
     "execution_count": 26,
     "metadata": {},
     "output_type": "execute_result"
    }
   ],
   "source": [
    "#grade\n",
    "\n",
    "#INPUT:\n",
    "#A lists of lists forming a 2D matrix (using a built-in list)\n",
    "#OUTPUT:\n",
    "# A list of size 2 storing the number of rows at index 0 \n",
    "# and the number of columns at index 1\n",
    "def getSize(matrix):\n",
    "    matrix = np.array(matrix)\n",
    "    print(matrix)\n",
    "    rowsandcolumns = []\n",
    "    rc = list(matrix.shape)\n",
    "    rowsandcolumns.append(rc)\n",
    "    \n",
    "    return rowsandcolumns[0]\n",
    "getSize(emptyMatrix(6, 6))"
   ]
  },
  {
   "cell_type": "code",
   "execution_count": 8,
   "metadata": {},
   "outputs": [],
   "source": [
    "#grade\n",
    "\n",
    "#INPUT:\n",
    "# A lists of lists forming a 2D matrix (using a built-in list)\n",
    "# A string fName storing the absolute path to a space-separated text file\n",
    "#OUTPUT:\n",
    "# A list of lists forming a 2D matrix.\n",
    "# The output must be either a numpy.ndarray or a built-in python nested list\n",
    "# The matrix should be the same dimensions as the input and must include all x,y pairs \n",
    "# found in the input file.\n",
    "# NOTE: If an input pair has a coordinate larger than the matrix, it should be ignored\n",
    "def stringParseLineBreaks(file, bchar):\n",
    "    listedofstrings = []\n",
    "    with open(file) as myFile: \n",
    "        for line in myFile:\n",
    "            listedofstrings.append(line.strip().split(bchar))\n",
    "    #listedofstrings = [int(i) for i in listedofstrings]\n",
    "    return listedofstrings\n",
    "def importValues(matrix, fName):\n",
    "    correct = stringParseLineBreaks(fName, \" \")\n",
    "    print(correct)\n",
    "    filelist = []\n",
    "    for index in correct:\n",
    "            filelist.append(list(map(int, index)))\n",
    "    #filelist.append(\"end\")\n",
    "    print(filelist)\n",
    "    for q in range(len(filelist)):\n",
    "        i= int(filelist[q][0])\n",
    "        j = int(filelist[q][1])\n",
    "        if (i >= 0 and j >=0) and (i< len(matrix) and j<len(matrix[0])):\n",
    "            matrix[i][j] = 1\n",
    "            #print(matrix[i][j])\n",
    "            #print(matrix)\n",
    "    print(matrix)\n",
    "    diffarray = np.array(matrix)\n",
    "    print(diffarray)\n",
    "    return matrix"
   ]
  },
  {
   "cell_type": "code",
   "execution_count": 9,
   "metadata": {},
   "outputs": [],
   "source": [
    "#grade\n",
    "\n",
    "#INPUT:\n",
    "# A lists of lists forming a 2D matrix (using a built-in list)\n",
    "#OUTPUT:\n",
    "# A list of lists forming a 2D matrix.\n",
    "# The output must be either a numpy.ndarray or a built-in python nested list\n",
    "# The matrix should be the same dimensions as the input and be the next timestamp\n",
    "# of cellular automata. Your logic should consider indices past matrix boundaries 'empty'.\n",
    "# NOTE: You should return a deep copy of the matrix, not a shallow one!\n",
    "from copy import copy, deepcopy\n",
    "def update(matrix):\n",
    "    matrix = np.array(matrix)\n",
    "    newstate = np.zeros((matrix.shape[0], matrix.shape[1]))\n",
    "    \n",
    "    for row in range(matrix.shape[0]):\n",
    "        for column in range(matrix.shape[1]):\n",
    "            alive = np.sum(matrix[max(0, row-1):min(row+2, matrix.shape[0]), \n",
    "                                  max(0, column-1):min(column+2, matrix.shape[1])]) - matrix[row, column]\n",
    "            \n",
    "            if matrix[row, column] == 1 and (alive < 2 or alive > 3):\n",
    "                newstate[row, column] = 0\n",
    "            elif (matrix[row, column] == 1 and 2 <= alive <= 3) or (matrix[row, column] == 0 and alive == 3):\n",
    "                newstate[row, column] = 1\n",
    "                \n",
    "    finalcopy = deepcopy(newstate)\n",
    "    return finalcopy"
   ]
  },
  {
   "cell_type": "code",
   "execution_count": 10,
   "metadata": {},
   "outputs": [
    {
     "name": "stdout",
     "output_type": "stream",
     "text": [
      "[['1', '0'], ['2', '0'], ['3', '0'], ['4', '0'], ['5', '0']]\n",
      "[[1, 0], [2, 0], [3, 0], [4, 0], [5, 0]]\n",
      "[[0.0, 0.0, 0.0, 0.0, 0.0], [1, 0.0, 0.0, 0.0, 0.0], [1, 0.0, 0.0, 0.0, 0.0], [1, 0.0, 0.0, 0.0, 0.0], [1, 0.0, 0.0, 0.0, 0.0]]\n",
      "[[0. 0. 0. 0. 0.]\n",
      " [1. 0. 0. 0. 0.]\n",
      " [1. 0. 0. 0. 0.]\n",
      " [1. 0. 0. 0. 0.]\n",
      " [1. 0. 0. 0. 0.]]\n"
     ]
    },
    {
     "data": {
      "text/plain": [
       "array([[0., 0., 0., 0., 0.],\n",
       "       [0., 0., 0., 0., 0.],\n",
       "       [1., 1., 0., 0., 0.],\n",
       "       [1., 1., 0., 0., 0.],\n",
       "       [0., 0., 0., 0., 0.]])"
      ]
     },
     "execution_count": 10,
     "metadata": {},
     "output_type": "execute_result"
    }
   ],
   "source": [
    "myFile = 'data/vertLine_5_5.txt'\n",
    "xdim = 5\n",
    "ydim = 5\n",
    "\n",
    "em = emptyMatrix(xdim,ydim) \n",
    "em = importValues(em, myFile)\n",
    "update(em)"
   ]
  },
  {
   "cell_type": "markdown",
   "metadata": {},
   "source": [
    "**Animation Code** In order to complete the autograded portion of this mini-project, you do not need to edit or modify the following functions. However you may want to modify things like the color, the framerate, or color boundaries when you visualize your own dataset."
   ]
  },
  {
   "cell_type": "code",
   "execution_count": 11,
   "metadata": {},
   "outputs": [],
   "source": [
    "#INPUT:\n",
    "# a frameNumber\n",
    "# a matplotlib AxesImage object\n",
    "# a 2D matrix (Notably this can be a 3D matrix as well with individual colors as RGBs)\n",
    "#OUTPUT:\n",
    "# a matplotlib AxesImage object containing the updated matrix\n",
    "def updateFig(frameNum, img, matrix):\n",
    "    # The first frame should be the actual input dataset, not the first update step.\n",
    "    if (frameNum == 0):\n",
    "        return img    \n",
    "\n",
    "    # NOTE: If you are making a gif for part 2, you will probably want to replace this\n",
    "    # The main point is that you need to both update matrix and img with the new frame\n",
    "    nm = update(matrix)\n",
    "    \n",
    "    matrix[:] = nm[:]\n",
    "\n",
    "    img.set_data(nm)\n",
    "\n",
    "    return img\n",
    "\n",
    "#INPUT:\n",
    "# a 2D matrix (Notably this can be a 3D matrix as well with individual colors as RGBs)\n",
    "# an integer storing the number of steps\n",
    "# a string storing the path and filename of the file to be written\n",
    "#OUTPUT:\n",
    "# None\n",
    "# Instead an image or gif is saved to the location specified by outname\n",
    "def animate(matrix, steps, outname):\n",
    "    matrix = np.array(matrix)\n",
    "    \n",
    "    # NOTE: If you change these two lines you can adjust the color and bin sizes\n",
    "    # This is only relevant for part 2 -- this code is not used or graded by the autograder\n",
    "    cmap = colors.ListedColormap(['blue', 'yellow', 'red']) \n",
    "    bounds = [0, 1, 2, 3]\n",
    "\n",
    "\n",
    "    norm = colors.BoundaryNorm(bounds, cmap.N)\n",
    "\n",
    "    fig, ax = plt.subplots()\n",
    "    plt.grid(False)\n",
    "    img = ax.imshow(matrix, cmap=cmap, norm=norm)\n",
    "    ani = animation.FuncAnimation(fig, updateFig, fargs=(img, matrix), frames=steps)\n",
    "\n",
    "\n",
    "    ani.save(outname, fps=2)"
   ]
  },
  {
   "cell_type": "markdown",
   "metadata": {},
   "source": [
    "Run-Code"
   ]
  },
  {
   "cell_type": "code",
   "execution_count": 12,
   "metadata": {},
   "outputs": [
    {
     "name": "stdout",
     "output_type": "stream",
     "text": [
      "[['0', '1'], ['1', '1'], ['2', '1']]\n",
      "[[0, 1], [1, 1], [2, 1]]\n",
      "[[0.0, 1, 0.0], [0.0, 1, 0.0], [0.0, 1, 0.0]]\n",
      "[[0. 1. 0.]\n",
      " [0. 1. 0.]\n",
      " [0. 1. 0.]]\n"
     ]
    },
    {
     "data": {
      "image/png": "[encoded data removed]",
      "text/plain": [
       "<Figure size 432x288 with 1 Axes>"
      ]
     },
     "metadata": {
      "needs_background": "light"
     },
     "output_type": "display_data"
    }
   ],
   "source": [
    "myFile = 'data/spinner_3_3.txt'\n",
    "xdim = 3\n",
    "ydim = 3\n",
    "\n",
    "em = emptyMatrix(xdim,ydim) \n",
    "em = importValues(em, myFile)\n",
    "animate(em,4,\"outputgif1.gif\")"
   ]
  },
  {
   "cell_type": "code",
   "execution_count": null,
   "metadata": {},
   "outputs": [],
   "source": []
  },
  {
   "cell_type": "code",
   "execution_count": null,
   "metadata": {},
   "outputs": [],
   "source": []
  }
 ],
 "metadata": {
  "kernelspec": {
   "display_name": "Python 3",
   "language": "python",
   "name": "python3"
  },
  "language_info": {
   "codemirror_mode": {
    "name": "ipython",
    "version": 3
   },
   "file_extension": ".py",
   "mimetype": "text/x-python",
   "name": "python",
   "nbconvert_exporter": "python",
   "pygments_lexer": "ipython3",
   "version": "3.8.6"
  },
  "vscode": {
   "interpreter": {
    "hash": "31f2aee4e71d21fbe5cf8b01ff0e069b9275f58929596ceb00d14d90e3e16cd6"
   }
  }
 },
 "nbformat": 4,
 "nbformat_minor": 4
}
