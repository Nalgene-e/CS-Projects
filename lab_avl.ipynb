{
 "cells": [
  {
   "cell_type": "code",
   "execution_count": null,
   "metadata": {
    "id": "5u7eLYUBKhcm"
   },
   "outputs": [],
   "source": [
    "from utils import avlNode, height"
   ]
  },
  {
   "cell_type": "markdown",
   "metadata": {
    "id": "TGD9ijxfqKML"
   },
   "source": [
    "# Part 1: AVL Rotations\n"
   ]
  },
  {
   "cell_type": "code",
   "execution_count": null,
   "metadata": {
    "id": "SN1SQ4XqLk_d"
   },
   "outputs": [],
   "source": [
    "#grade\n",
    "# INPUT:\n",
    "# A avlNode object where there is an inbalance\n",
    "# OUTPUT:\n",
    "# A balanced avlNode object\n",
    "# NOTE: rotate returns the 'new' root node of the subtree\n",
    "# Accordingly, it is used by 'node = rotate(node)'\n",
    "def rotateLeft(node):\n",
    "    #YOUR CODE HERE\n",
    "    rightside = node.right\n",
    "    node.right = rightside.left\n",
    "\n",
    "    rightside.left = node\n",
    "    node.parent = rightside\n",
    "    return rightside"
   ]
  },
  {
   "cell_type": "code",
   "execution_count": null,
   "metadata": {
    "id": "uWxe-lO_Kk3x"
   },
   "outputs": [],
   "source": [
    "#grade\n",
    "# INPUT:\n",
    "# A avlNode object where there is an inbalance\n",
    "# OUTPUT:\n",
    "# A balanced avlNode object\n",
    "# NOTE: rotate returns the 'new' root node of the subtree\n",
    "# Accordingly, it is used by 'node = rotate(node)'\n",
    "def rotateRight(node):\n",
    "    #YOUR CODE HERE\n",
    "    leftside = node.left\n",
    "    node.left = leftside.right \n",
    "    leftside.right = node\n",
    "    node.parent = leftside\n",
    "    return leftside\n",
    "\n"
   ]
  },
  {
   "cell_type": "code",
   "execution_count": null,
   "metadata": {
    "id": "OTNP8PwdLmYx"
   },
   "outputs": [],
   "source": [
    "#grade\n",
    "# INPUT:\n",
    "# A avlNode object where there is an inbalance\n",
    "# OUTPUT:\n",
    "# A balanced avlNode object\n",
    "# NOTE: rotate returns the 'new' root node of the subtree\n",
    "# Accordingly, it is used by 'node = rotate(node)'\n",
    "def rotateLeftRight(node):\n",
    "    #YOUR CODE HERE\n",
    "    node.left = rotateLeft(node.left)\n",
    "    return rotateRight(node)\n",
    "    \n"
   ]
  },
  {
   "cell_type": "code",
   "execution_count": null,
   "metadata": {
    "id": "GgHYRoxTLngr"
   },
   "outputs": [],
   "source": [
    "#grade\n",
    "# INPUT:\n",
    "# A avlNode object where there is an inbalance\n",
    "# OUTPUT:\n",
    "# A balanced avlNode object\n",
    "# NOTE: rotate returns the 'new' root node of the subtree\n",
    "# Accordingly, it is used by 'node = rotate(node)'\n",
    "def rotateRightLeft(node):\n",
    "    #YOUR CODE HERE\n",
    "    node.right = rotateRight(node.right)\n",
    "    return rotateLeft(node)\n"
   ]
  },
  {
   "cell_type": "markdown",
   "metadata": {
    "id": "meagqpzDVG5y"
   },
   "source": [
    "# Part 2: AVL Rebalancing\n"
   ]
  },
  {
   "cell_type": "code",
   "execution_count": 10,
   "metadata": {
    "id": "1uYymsqtLopF"
   },
   "outputs": [],
   "source": [
    "#grade\n",
    "# INPUT:\n",
    "# A avlNode object which is the root of the current sub-tree\n",
    "# OUTPUT:\n",
    "# a avlNode that defines the root of the current sub-tree\n",
    "# Rebalance should check for balance and -- if necessary -- perform the correct rotation\n",
    "# NOTE: If the tree is balanced, rebalance should return the input node unchanged.\n",
    "def rebalance(node):\n",
    "    #YOUR CODE HERE\n",
    "    heightright = height(node.right)\n",
    "    heightleft = height(node.left)\n",
    "    balance = heightright-heightleft\n",
    "    if balance == 2:\n",
    "        \n",
    "        childr = height(node.right.right)\n",
    "        childl = height(node.right.left)\n",
    "        childbal = childr - childl\n",
    "        if childbal == 1:\n",
    "            return rotateLeft(node)\n",
    "        elif childbal == -1:\n",
    "            return rotateRightLeft(node)\n",
    "        else:\n",
    "            return node\n",
    "    elif balance == -2:\n",
    "        childlr = height(node.left.right)\n",
    "        childll = height(node.left.left)\n",
    "        childball = childlr - childll\n",
    "        if childball == 1:\n",
    "            return rotateLeftRight(node)\n",
    "        elif childball == -1:\n",
    "            return rotateRight(node)\n",
    "        else: \n",
    "            return node\n",
    "    else:\n",
    "        return node"
   ]
  },
  {
   "cell_type": "markdown",
   "metadata": {},
   "source": [
    "The code below is a reproduction of the setup the autograder will use to grade your rebalance. Changes you make to the code won't break the autograder but will likely make it very difficult to debug any issues you have (so don't change it)!"
   ]
  },
  {
   "cell_type": "code",
   "execution_count": null,
   "metadata": {
    "id": "NcOdwvWCU_W9"
   },
   "outputs": [],
   "source": [
    "# class avl for testing the code below, finish rebalance function first before testing\n",
    "class avl:\n",
    "    def __init__(self, root=None):\n",
    "        self.root = root\n",
    "\n",
    "    # INPUT:\n",
    "    # A int 'key' containing the numeric ID of the gene being inserted\n",
    "    # A float 'val' containing the expression of the gene\n",
    "    # OUTPUT:\n",
    "    # Nothing\n",
    "    def insert(self, key, val):\n",
    "        self.root = self.insert_helper(self.root, key, val)\n",
    "\n",
    "    def insert_helper(self, node, key, val):\n",
    "        if node == None:\n",
    "           # self.printTree()\n",
    "            return avlNode(key, val)\n",
    "\n",
    "        if key < node.key: # look left\n",
    "            node.left = self.insert_helper(node.left, key, val)\n",
    "        else: # look right\n",
    "            node.right = self.insert_helper(node.right, key, val)\n",
    "\n",
    "        return rebalance(node)\n",
    "\n",
    "    def height(self):\n",
    "        return self.height_helper(self.root)\n",
    "\n",
    "    def height_helper(self, node):\n",
    "        if node == None:\n",
    "            return -1\n",
    "\n",
    "        return 1 + max(self.height_helper(node.left), self.height_helper(node.right))\n",
    "\n",
    "    # INPUT:\n",
    "    # A integer storing the key of the key, val pair\n",
    "    # OUTPUT:\n",
    "    # The corresponding val for the key \n",
    "    # NOTE: You do not need to edit this function but will probably need to use it\n",
    "    def find(self, key):\n",
    "        n = self.find_helper(self.root, key)\n",
    "        if n:\n",
    "            return n.val\n",
    "        else:\n",
    "            return None\n",
    "    \n",
    "    def find_helper(self,node,key):\n",
    "        nkey = node.key\n",
    "        if nkey > key:\n",
    "            if node.left:\n",
    "                return self.find_helper(node.left, key)\n",
    "            else:\n",
    "                return None\n",
    "        elif nkey < key:\n",
    "            if node.right:\n",
    "                return self.find_helper(node.right, key)\n",
    "            else:\n",
    "                return None\n",
    "        else:\n",
    "            return node\n",
    "\n",
    "    def printTree(self):\n",
    "        if self.root == None:\n",
    "            print(\"(empty)\\n\")\n",
    "            return\n",
    "\n",
    "        root_height = self.height()\n",
    "        print_matrix_width = (4 << root_height) - 3\n",
    "        print_matrix_height = 2 * root_height + 1\n",
    "\n",
    "        output = [None]*print_matrix_height\n",
    "        for i in range(len(output)):\n",
    "            output[i] = [' '] * (print_matrix_width+4)\n",
    "\n",
    "        self.pt_helper(self.root, output, 0, 0, print_matrix_width)\n",
    "\n",
    "        for row in output:\n",
    "            print(\"\".join(row))\n",
    "\n",
    "    def pt_helper(self, root, output, left, top, curr_width):\n",
    "        val = [char for char in str(root.key)]\n",
    "        curr_width = int(curr_width)\n",
    "\n",
    "        left_start_shift = int(1 - (len(val)-1) / 2)\n",
    "        i = 0\n",
    "        while( i < len(val) and left + curr_width/2 + i < len(output[top])):\n",
    "            output[top][int(left + curr_width/2 + left_start_shift + i)] = val[i]\n",
    "            i+=1\n",
    "        \n",
    "        branchOffset = (curr_width+3) >> 3\n",
    "        branchOffset = int(branchOffset)\n",
    "\n",
    "        center = int(left + curr_width/2)\n",
    "        leftcenter = int(left + (curr_width/2 -1)/2)\n",
    "        rightcenter = int(left + curr_width/2 +2 + (curr_width/2 -1)/2)\n",
    "\n",
    "        if root.left != None:\n",
    "            branch_pos = center - branchOffset + 1\n",
    "\n",
    "            for pos in range(int(center+left_start_shift - 2), branch_pos, -1):\n",
    "                output[top][pos] = '_'\n",
    "\n",
    "            output[top+1][branch_pos] = '/'\n",
    "\n",
    "            for pos in range(branch_pos-1, leftcenter + 2, -1):\n",
    "                output[top+1][pos] = '_'\n",
    "        \n",
    "            self.pt_helper(root.left, output, left, top+2, curr_width/2 - 1)\n",
    "\n",
    "        \n",
    "        if root.right != None:\n",
    "            branch_pos = center + branchOffset + 1\n",
    "\n",
    "            for pos in range(center+left_start_shift + len(val) + 1, branch_pos, 1):\n",
    "                output[top][pos] = '_'\n",
    "\n",
    "            output[top+1][branch_pos] = '\\\\'\n",
    "\n",
    "            for pos in range(branch_pos+1, rightcenter, 1):\n",
    "                output[top+1][pos] = '_'\n",
    "        \n",
    "            self.pt_helper(root.right, output, left + curr_width/2 + 2, top+2, curr_width/2 - 1)"
   ]
  },
  {
   "cell_type": "code",
   "execution_count": 8,
   "metadata": {},
   "outputs": [],
   "source": [
    "# Unlike previous labs I am not giving you a manual test for every rotation\n",
    "# You can use the autograder to check but you are encouraged to manually check\n",
    "# different values and different rotations on the provided tree\n",
    "\n",
    "# NOTE: This tree is already balanced! Most of your tests will also be on already balanced AVL trees\n",
    "# When rebalance is called on a balanced tree nothing happens, but when you call a SPECIFIC rotation\n",
    "# your code should still perform that rotation\n",
    "\n",
    "# In other words, the check for balance should happen in rebalance (not the rotations themselves)\n",
    "t10 = avlNode(10, 0, None, avlNode(12, 0))\n",
    "t25 = avlNode(25, 0)\n",
    "t13 = avlNode(13, 0, t10, t25)\n",
    "t51 = avlNode(51, 0, avlNode(42, 0), avlNode(99, 0))\n",
    "t38 = avlNode(38, 0, t13, t51)\n",
    "\n",
    "rt = avl(t38)\n",
    "rt.printTree()\n",
    "''' The original provided tree looks like this: \n",
    "           _ 38 __              \n",
    "         __/       \\___          \n",
    "      13               51        \n",
    "     /   \\_           /   \\      \n",
    "  10       25      42      99    \n",
    "    \\                            \n",
    "     12                          \n",
    "'''\n",
    "\n",
    "rt.root = rotateLeft(t38)\n",
    "''' If I call rotateRight I will produce the following tree:\n",
    "            _ 13 __              \n",
    "         __/       \\___          \n",
    "      10               38        \n",
    "         \\_           /   \\      \n",
    "           12      25      51    \n",
    "                           / \\   \n",
    "                         42   99 \n",
    "'''\n",
    "rt.printTree()"
   ]
  },
  {
   "cell_type": "code",
   "execution_count": 9,
   "metadata": {
    "id": "IbPNF-uIMLJH"
   },
   "outputs": [
    {
     "name": "stdout",
     "output_type": "stream",
     "text": [
      "               2 __              \n",
      "                   \\___          \n",
      "                        3        \n",
      "                          \\      \n",
      "                            5    \n",
      "                           /     \n",
      "                          4      \n",
      "                               2 ______                          \n",
      "                                       \\_______                  \n",
      "                                                3 __             \n",
      "                                                    \\__          \n",
      "                                                        5        \n",
      "                                                      /   \\_     \n",
      "                                                    4        6   \n",
      "                                                              \\  \n",
      "                                                               7 \n"
     ]
    },
    {
     "data": {
      "text/plain": [
       "'\\n        5\\n     /   \\\\_\\n   3        6\\n  / \\\\         2    4      10\\n\\n'"
      ]
     },
     "execution_count": 9,
     "metadata": {},
     "output_type": "execute_result"
    }
   ],
   "source": [
    "# Testing the AVL insert function (your rebalance)\n",
    "at = avl()\n",
    "at.insert(5,3)\n",
    "at.insert(2,2)\n",
    "at.insert(3,4)\n",
    "at.insert(4,4)\n",
    "at.printTree()\n",
    "\n",
    "'''\n",
    "        3\n",
    "     /   \\_\n",
    "   2        5\n",
    "           /\n",
    "          4\n",
    "'''\n",
    "\n",
    "\n",
    "at.insert(6,6)\n",
    "at.insert(7,7)\n",
    "at.printTree()\n",
    "'''\n",
    "        5\n",
    "     /   \\_\n",
    "   3        6\n",
    "  / \\        \\\n",
    " 2    4      10\n",
    "\n",
    "'''"
   ]
  },
  {
   "cell_type": "code",
   "execution_count": null,
   "metadata": {
    "id": "DrmjSspyMLRL"
   },
   "outputs": [],
   "source": []
  },
  {
   "cell_type": "code",
   "execution_count": null,
   "metadata": {},
   "outputs": [],
   "source": []
  }
 ],
 "metadata": {
  "colab": {
   "provenance": []
  },
  "kernelspec": {
   "display_name": "Python 3",
   "language": "python",
   "name": "python3"
  },
  "language_info": {
   "codemirror_mode": {
    "name": "ipython",
    "version": 3
   },
   "file_extension": ".py",
   "mimetype": "text/x-python",
   "name": "python",
   "nbconvert_exporter": "python",
   "pygments_lexer": "ipython3",
   "version": "3.8.6"
  }
 },
 "nbformat": 4,
 "nbformat_minor": 4
}
