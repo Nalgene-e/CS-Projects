{
 "cells": [
  {
   "cell_type": "markdown",
   "metadata": {},
   "source": [
    "Python has a number of ways to read in an input file -- in this first exercise, practice one of the more fundamental ways to read in a file: line by line!\n",
    "\n",
    "**NOTE:** The only trick which is making this not a one-line solution [though I'm sure it can still be with a little creativity] is that you *must* strip whitespace from either side of the lines themselves. Do you remember the Python string command to do this? How could you look it up if you don't?"
   ]
  },
  {
   "cell_type": "code",
   "execution_count": 1,
   "metadata": {},
   "outputs": [],
   "source": [
    "#grade\n",
    "\n",
    "# INPUT:\n",
    "# file is the relative path of the file being processed (string)\n",
    "# OUTPUT:\n",
    "# A list containing the complete collection of substrings formed by splitting on line breaks.\n",
    "# NOTE:\n",
    "# The output list should contain each line (even empty lines) in the order they are read (top to bottom)\n",
    "# To ensure full credit, you should strip whitespace from both sides of each line.\n",
    "def stringParseLine(file):\n",
    "    listofstrings = []\n",
    "    with open(file) as myFile:\n",
    "        for line in myFile:\n",
    "            listofstrings.append(line.strip())\n",
    "    return listofstrings"
   ]
  },
  {
   "cell_type": "markdown",
   "metadata": {},
   "source": [
    "For a slightly harder (but also more generally useful) parsing function, lets read in an input file not as a single list of lines but as a list of lists of individual cells separated by some break character. This is a very common style of format (by tab, by comma, by space, etc...) and a great way of storing a two-dimensional matrix. \n",
    "\n",
    "Accordingly your output here should be a matrix where line i is stored at index i and each line is first stripped of whitespace (like the above function) but then also split according to the break character."
   ]
  },
  {
   "cell_type": "code",
   "execution_count": 2,
   "metadata": {},
   "outputs": [],
   "source": [
    "#grade\n",
    "\n",
    "# stringParseLineBreaks (5)\n",
    "# INPUT:\n",
    "# file is the relative path of the string file being processed (string)\n",
    "# bchar is the break character (string)\n",
    "# OUTPUT:\n",
    "# A list of lists where each line in the file is parsed as a\n",
    "# separate list by \"splitting\" each line at the break characters.\n",
    "# NOTE:\n",
    "# The output list should contain each line (even empty lines) in the order they are read (top to bottom)\n",
    "# To ensure full credit, you should strip whitespace from both sides of each line *before* splitting.\n",
    "def stringParseLineBreaks(file, bchar):\n",
    "    listedofstrings = []\n",
    "    with open(file) as myFile: \n",
    "        for line in myFile:\n",
    "            listedofstrings.append(line.strip().split(bchar))\n",
    "    return listedofstrings"
   ]
  },
  {
   "cell_type": "markdown",
   "metadata": {},
   "source": [
    "Having completed the two functions above, now lets use them to do some data processing. For the first of these exercises given a line number and an input file, count the number of lines that exactly match the input file (excluding whitespace). "
   ]
  },
  {
   "cell_type": "code",
   "execution_count": 3,
   "metadata": {},
   "outputs": [],
   "source": [
    "#grade\n",
    "\n",
    "# matchingLines (7.5)\n",
    "# INPUT:\n",
    "# an integer i corresponding to the line number we are trying to count matches\n",
    "# an input file consisting of strings separated by lines\n",
    "# OUTPUT:\n",
    "# An integer containing the count of matching lines to the line found at index i\n",
    "# NOTE: There is always at least one matching line (line i always matches itself)\n",
    "def matchingLines(i, file):\n",
    "\n",
    "    with open(file) as myFile: \n",
    "        count = 0\n",
    "        text = myFile.readlines()\n",
    "        #text = text[:-1]\n",
    "        print(text)\n",
    "        correctline = text[i]\n",
    "        print(correctline)\n",
    "        for line in text:\n",
    "            if line == correctline:\n",
    "                count +=1\n",
    "        return count\n",
    "        \n",
    "            \n",
    "            "
   ]
  },
  {
   "cell_type": "markdown",
   "metadata": {},
   "source": [
    "For the final exercise lets practice reading comma-separated values files! Given a list of indices corresponding to columns (you may assume the list contains only valid indices), sum only those indices (you may assume all values you are asked to sum are integers but *not* that all columns are integers) to produce a single sum for each row. You should then return a single list containing the sum for row i at index i."
   ]
  },
  {
   "cell_type": "code",
   "execution_count": 1,
   "metadata": {},
   "outputs": [],
   "source": [
    "\n",
    "\n",
    "\n",
    "\n",
    "\n",
    "\n",
    "\n",
    "\n",
    "#grade\n",
    "\n",
    "# sumColumns (7.5)\n",
    "# INPUT:\n",
    "# a list of integers corresponding to the columns to be summed on each row\n",
    "# an input comma-separated values file to be parsed\n",
    "# OUTPUT:\n",
    "# A list of integers corresponding to the sum of the input columns at each row.\n",
    "# NOTE: The output list should be the same size as the number of rows\n",
    "# NOTE: You may assume all the indices you are asked to sum are integers but \n",
    "# should NOT assume that all csv columns are integers.\n",
    "def sumColumns(sumIndices, file):\n",
    "    # YOUR CODE HERE\n",
    "    correctedlist = []\n",
    "    correct = stringParseLineBreaks(file, \",\")\n",
    "    for line in correct:\n",
    "        storelist= []\n",
    "        for i in range(len(line)):\n",
    "            if i in sumIndices:\n",
    "                storelist.append(int(line[i]))\n",
    "        correctedlist.append(sum(storelist))\n",
    "    return correctedlist"
   ]
  },
  {
   "cell_type": "code",
   "execution_count": 5,
   "metadata": {},
   "outputs": [
    {
     "name": "stdout",
     "output_type": "stream",
     "text": [
      "['$ABC$CDE$ GGG$AA', '$1213']\n",
      "[['TCGATA', 'GGATGA', 'GTACGAT'], ['T', 'GATACGACGA', '', 'GCTACT'], ['CGCGCGCGCGCGCGCGCGCGCGC'], ['ATATATATATATATATATATATA']]\n",
      "['1010101110101010101010101\\n', '1010101110101010101010101\\n', '1010101110101010101010101\\n', '1010101110101010101010101\\n', '1010101110101010101010101']\n",
      "1010101110101010101010101\n",
      "\n",
      "4\n"
     ]
    }
   ],
   "source": [
    "print(stringParseLine(\"data/parse1.txt\"))\n",
    "print(stringParseLineBreaks(\"data/parse2.txt\", \"CA\"))\n",
    "print(matchingLines(1, \"data/parse3.txt\"))\n"
   ]
  },
  {
   "cell_type": "code",
   "execution_count": null,
   "metadata": {},
   "outputs": [],
   "source": []
  },
  {
   "cell_type": "code",
   "execution_count": null,
   "metadata": {},
   "outputs": [],
   "source": []
  }
 ],
 "metadata": {
  "kernelspec": {
   "display_name": "Python 3",
   "language": "python",
   "name": "python3"
  },
  "language_info": {
   "codemirror_mode": {
    "name": "ipython",
    "version": 3
   },
   "file_extension": ".py",
   "mimetype": "text/x-python",
   "name": "python",
   "nbconvert_exporter": "python",
   "pygments_lexer": "ipython3",
   "version": "3.8.6"
  },
  "vscode": {
   "interpreter": {
    "hash": "31f2aee4e71d21fbe5cf8b01ff0e069b9275f58929596ceb00d14d90e3e16cd6"
   }
  }
 },
 "nbformat": 4,
 "nbformat_minor": 4
}
