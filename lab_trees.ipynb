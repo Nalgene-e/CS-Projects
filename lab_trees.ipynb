{
 "cells": [
  {
   "cell_type": "code",
   "execution_count": null,
   "metadata": {
    "collapsed": false,
    "jupyter": {
     "outputs_hidden": false
    }
   },
   "outputs": [],
   "source": [
    "# This assignment uses the treeNode class as defined in class\n",
    "from utils import treeNode"
   ]
  },
  {
   "cell_type": "markdown",
   "metadata": {},
   "source": [
    "# Assignment Description\n"
   ]
  },
  {
   "cell_type": "markdown",
   "metadata": {
    "id": "HtMi9ezNb9wi"
   },
   "source": [
    "In this lab we'll explore some cool functions for binary trees, practice manipulating tree structures, and hopefully see some fancy ascii trees on the terminal! Most functions in this lab will require (or at least be significantly easier!) with helper functions."
   ]
  },
  {
   "cell_type": "markdown",
   "metadata": {
    "id": "jgwb968djWxG"
   },
   "source": [
    "## Binary Tree Height"
   ]
  },
  {
   "cell_type": "code",
   "execution_count": null,
   "metadata": {
    "id": "akjLg9KCkKUO"
   },
   "outputs": [],
   "source": [
    "#grade\n",
    "\n",
    "# INPUT:\n",
    "# A treeNode object storing the root of the tree being measured (node)\n",
    "# OUTPUT:\n",
    "# An integer storing the height of the tree defined by root\n",
    "# Hint: A recursive solution is easiest (as seen in class)!\n",
    "def height(node):\n",
    "    if (node == None):\n",
    "        return -1\n",
    "    left = height(node.left)\n",
    "    right = height(node.right)\n",
    "    return max(left,right)+1\n",
    "\n",
    "\n",
    "# After height is defined, we can import printTree.\n",
    "# Do not call printTree until your height is correct!\n",
    "# INPUT:\n",
    "# A treeNode object storing the root of the tree being printed (root)\n",
    "# OUTPUT:\n",
    "# Nothing\n",
    "# Prints to terminal an ASCII interpretation of the graph\n",
    "# IMPORTANT: THIS WILL NOT WORK UNTIL YOU HAVE IMPLEMENTED HEIGHT\n",
    "def printTree(root):\n",
    "    if root == None:\n",
    "        print(\"(empty)\\n\")\n",
    "        return\n",
    "\n",
    "    root_height = height(root)\n",
    "    print_matrix_width = (4 << root_height) - 3\n",
    "    print_matrix_height = 2 * root_height + 1\n",
    "\n",
    "    output = [None]*print_matrix_height\n",
    "    for i in range(len(output)):\n",
    "        output[i] = [' '] * (print_matrix_width+4)\n",
    "\n",
    "    pt_helper(root, output, 0, 0, print_matrix_width)\n",
    "\n",
    "    for row in output:\n",
    "        print(\"\".join(row))\n",
    "\n",
    "\n",
    "def pt_helper(root, output, left, top, curr_width):\n",
    "    val = [char for char in str(root.val)]\n",
    "    curr_width = int(curr_width)\n",
    "\n",
    "    left_start_shift = int(1 - (len(val)-1) / 2)\n",
    "    i = 0\n",
    "    while (i < len(val) and left + curr_width/2 + i < len(output[top])):\n",
    "        output[top][int(left + curr_width/2 +\n",
    "                        left_start_shift + i)] = val[i]\n",
    "        i += 1\n",
    "\n",
    "    branchOffset = (curr_width+3) >> 3\n",
    "    branchOffset = int(branchOffset)\n",
    "\n",
    "    center = int(left + curr_width/2)\n",
    "    leftcenter = int(left + (curr_width/2 - 1)/2)\n",
    "    rightcenter = int(left + curr_width/2 + 2 + (curr_width/2 - 1)/2)\n",
    "\n",
    "    if root.left != None:\n",
    "        branch_pos = center - branchOffset + 1\n",
    "\n",
    "        for pos in range(int(center+left_start_shift - 2), branch_pos, -1):\n",
    "            output[top][pos] = '_'\n",
    "\n",
    "        output[top+1][branch_pos] = '/'\n",
    "\n",
    "        for pos in range(branch_pos-1, leftcenter + 2, -1):\n",
    "            output[top+1][pos] = '_'\n",
    "\n",
    "        pt_helper(root.left, output, left, top+2, curr_width/2 - 1)\n",
    "\n",
    "    if root.right != None:\n",
    "        branch_pos = center + branchOffset + 1\n",
    "\n",
    "        for pos in range(center+left_start_shift + len(val) + 1, branch_pos, 1):\n",
    "            output[top][pos] = '_'\n",
    "\n",
    "        output[top+1][branch_pos] = '\\\\'\n",
    "\n",
    "        for pos in range(branch_pos+1, rightcenter, 1):\n",
    "            output[top+1][pos] = '_'\n",
    "\n",
    "        pt_helper(root.right, output, left +\n",
    "                  curr_width/2 + 2, top+2, curr_width/2 - 1)"
   ]
  },
  {
   "cell_type": "code",
   "execution_count": null,
   "metadata": {},
   "outputs": [],
   "source": []
  },
  {
   "cell_type": "markdown",
   "metadata": {
    "id": "NAZwkQC0krJg"
   },
   "source": [
    "## In-Order Traversal"
   ]
  },
  {
   "cell_type": "code",
   "execution_count": 3,
   "metadata": {
    "id": "yaBskUHbkuRj"
   },
   "outputs": [],
   "source": [
    "#grade\n",
    "\n",
    "# INPUT:\n",
    "# A treeNode object storing the root of the tree being printed (node)\n",
    "# OUTPUT:\n",
    "# A list containing the in-order traversal of the binaryTree\n",
    "# Note: The traversal should return a list NOT print them to terminal like the in-class examples\n",
    "def inOrder(node):\n",
    "\n",
    "    if (node == None):\n",
    "        return []\n",
    "    if ((node.left == None) and (node.right == None)):\n",
    "  \n",
    "        return [node.val]\n",
    "    return inOrder(node.left) + [node.val]+ inOrder(node.right)\n",
    "         \n",
    "    \n",
    "    \n"
   ]
  },
  {
   "cell_type": "code",
   "execution_count": null,
   "metadata": {},
   "outputs": [],
   "source": []
  },
  {
   "cell_type": "code",
   "execution_count": 4,
   "metadata": {},
   "outputs": [
    {
     "data": {
      "text/plain": [
       "'\\n       7         \\n     /   \\\\_      \\n   6        5    \\n  / \\\\      / \\\\   \\n 4    3   2   1  \\n'"
      ]
     },
     "execution_count": 4,
     "metadata": {},
     "output_type": "execute_result"
    }
   ],
   "source": [
    "\n",
    "# Example Tree 1\n",
    "# The root of this tree is tn7\n",
    "tn1 = treeNode(1)\n",
    "tn2 = treeNode(2)\n",
    "tn3 = treeNode(3)\n",
    "tn4 = treeNode(4)\n",
    "tn5 = treeNode(5, tn1, tn2)\n",
    "tn6 = treeNode(6, tn3, tn4)\n",
    "tn7 = treeNode(7, tn5, tn6)\n",
    "\n",
    "\n",
    "# print(height(tn7)) # Should print: 2\n",
    "\n",
    "# Should print:\n",
    "'''\n",
    "       7         \n",
    "     /   \\_      \n",
    "   5        6    \n",
    "  / \\      / \\   \n",
    " 1    2   3   4 \n",
    "'''\n",
    "#printTree(tn7)\n",
    "inOrder(tn7)\n",
    "#print(inOrder(tn7)) # Should print: [1, 5, 2, 7, 3, 6, 4]\n",
    "\n",
    "#mirror(tn7) # Does not print anything; modifies tree rooted at tn7\n",
    "\n",
    "# Should print:\n",
    "'''\n",
    "       7         \n",
    "     /   \\_      \n",
    "   6        5    \n",
    "  / \\      / \\   \n",
    " 4    3   2   1  \n",
    "'''\n",
    "#printTree(tn7)"
   ]
  },
  {
   "cell_type": "markdown",
   "metadata": {
    "id": "yxRF5t-QlCP2"
   },
   "source": [
    "## Mirroring a tree\n"
   ]
  },
  {
   "cell_type": "code",
   "execution_count": 11,
   "metadata": {
    "id": "uDZXXKOilFCZ"
   },
   "outputs": [],
   "source": [
    "#grade\n",
    "\n",
    "# INPUT:\n",
    "# None\n",
    "# OUTPUT:\n",
    "# Nothing\n",
    "# mirror should flip the tree around the root\n",
    "def mirror(node):\n",
    "    if node == None:\n",
    "        return\n",
    "    mirror(node.left)\n",
    "    mirror(node.right)\n",
    "    helperfunction(node)\n",
    "\n",
    "def helperfunction(node):\n",
    "    if node ==None:\n",
    "        return\n",
    "    place = node.left\n",
    "    node.left = node.right\n",
    "    node.right = place"
   ]
  },
  {
   "cell_type": "code",
   "execution_count": 9,
   "metadata": {},
   "outputs": [
    {
     "name": "stdout",
     "output_type": "stream",
     "text": [
      "2\n",
      "       7         \n",
      "     /   \\_      \n",
      "   5        6    \n",
      "  / \\      / \\   \n",
      " 1    2   3   4  \n",
      "[1, 5, 2, 7, 3, 6, 4]\n",
      "       7         \n",
      "     /   \\_      \n",
      "   5        6    \n",
      "  / \\      / \\   \n",
      " 1    2   3   4  \n"
     ]
    }
   ],
   "source": [
    "\n",
    "# Example Tree 1\n",
    "# The root of this tree is tn7\n",
    "tn1 = treeNode(1)\n",
    "tn2 = treeNode(2)\n",
    "tn3 = treeNode(3)\n",
    "tn4 = treeNode(4)\n",
    "tn5 = treeNode(5, tn1, tn2)\n",
    "tn6 = treeNode(6, tn3, tn4)\n",
    "tn7 = treeNode(7, tn5, tn6)\n",
    "\n",
    "\n",
    "print(height(tn7)) # Should print: 2\n",
    "\n",
    "# Should print:\n",
    "'''\n",
    "       7         \n",
    "     /   \\_      \n",
    "   5        6    \n",
    "  / \\      / \\   \n",
    " 1    2   3   4 \n",
    "'''\n",
    "printTree(tn7)\n",
    "\n",
    "print(inOrder(tn7)) # Should print: [1, 5, 2, 7, 3, 6, 4]\n",
    "\n",
    "mirror(tn7) # Does not print anything; modifies tree rooted at tn7\n",
    "\n",
    "# Should print:\n",
    "'''\n",
    "       7         \n",
    "     /   \\_      \n",
    "   6        5    \n",
    "  / \\      / \\   \n",
    " 4    3   2   1  \n",
    "'''\n",
    "printTree(tn7)\n",
    "\n"
   ]
  },
  {
   "cell_type": "code",
   "execution_count": 7,
   "metadata": {},
   "outputs": [
    {
     "name": "stdout",
     "output_type": "stream",
     "text": [
      "5\n",
      "                                                ______________ 1 ______________                                                  \n",
      "                                 ______________/                               \\_______________                                  \n",
      "                        ______ 2 ______                                                  _____ 11 ______                         \n",
      "                 ______/               \\_______                                   ______/               \\______                  \n",
      "               3                             __ 5 __                            8 __                         _ 10                \n",
      "                                          __/       \\__                             \\__                   __/                    \n",
      "                                        4               6                               7               9                        \n",
      "                                                                                      /   \\_                                     \n",
      "                                                                                    5        6                                   \n",
      "                                                                                   / \\      / \\                                  \n",
      "                                                                                  1    2   3   4                                 \n",
      "[3, 2, 4, 5, 6, 1, 8, 1, 5, 2, 7, 3, 6, 4, 11, 9, 10]\n",
      "                                                ______________ 1 ______________                                                  \n",
      "                                 ______________/                               \\_______________                                  \n",
      "                        ______ 2 ______                                                  _____ 11 ______                         \n",
      "                 ______/               \\_______                                   ______/               \\______                  \n",
      "               3                             __ 5 __                            8 __                         _ 10                \n",
      "                                          __/       \\__                             \\__                   __/                    \n",
      "                                        4               6                               7               9                        \n",
      "                                                                                      /   \\_                                     \n",
      "                                                                                    5        6                                   \n",
      "                                                                                   / \\      / \\                                  \n",
      "                                                                                  1    2   3   4                                 \n"
     ]
    }
   ],
   "source": [
    "# Example Tree 2\n",
    "# The root of this tree is il1\n",
    "n3 = treeNode(3)\n",
    "n4 = treeNode(4)\n",
    "n6 = treeNode(6)\n",
    "n7 = treeNode(7)\n",
    "n9 = treeNode(9)\n",
    "i5 = treeNode(5, n4, n6)\n",
    "i2 = treeNode(2, n3, i5)\n",
    "i8 = treeNode(8, None, tn7)\n",
    "i10 = treeNode(10, n9, None)\n",
    "i11 = treeNode(11, i8, i10)\n",
    "i1 = treeNode(1, i2, i11)\n",
    "\n",
    "print(height(i1)) # Should print: 5\n",
    "#Should print:\n",
    "'''\n",
    "                                                ______________ 1 ______________                                                  \n",
    "                                 ______________/                               \\_______________                                  \n",
    "                        ______ 2 ______                                                  _____ 11 ______                         \n",
    "                 ______/               \\_______                                   ______/               \\______                  \n",
    "               3                             __ 5 __                            8 __                         _ 10                \n",
    "                                          __/       \\__                             \\__                   __/                    \n",
    "                                        4               6                               7               9                        \n",
    "                                                                                      /   \\_                                     \n",
    "                                                                                    6        5                                   \n",
    "                                                                                   / \\      / \\                                  \n",
    "                                                                                  4    3   2   1  \n",
    "'''\n",
    "printTree(i1)\n",
    "\n",
    "print(inOrder(i1)) # Should print: [3, 2, 4, 5, 6, 1, 8, 4, 6, 3, 7, 2, 5, 1, 11, 9, 10]\n",
    "\n",
    "mirror(i1) # Does not print anything; modifies tree rooted at i1\n",
    "\n",
    "#Should print:\n",
    "'''\n",
    "                                                ______________ 1 ______________                                                  \n",
    "                                 ______________/                               \\_______________                                  \n",
    "                        _____ 11 ______                                                  ______ 2 ______                         \n",
    "                 ______/               \\_______                                   ______/               \\______                  \n",
    "              10 __                          __ 8                            __ 5 __                            3                \n",
    "                   \\___                   __/                             __/       \\__                                          \n",
    "                        9               7                               6               4                                        \n",
    "                                      /   \\                                                                                      \n",
    "                                    5       6                                                                                    \n",
    "                                   / \\     / \\                                                                                   \n",
    "                                  1   2   3    4     \n",
    "'''\n",
    "printTree(i1)"
   ]
  },
  {
   "cell_type": "code",
   "execution_count": null,
   "metadata": {},
   "outputs": [],
   "source": []
  },
  {
   "cell_type": "code",
   "execution_count": null,
   "metadata": {},
   "outputs": [],
   "source": []
  }
 ],
 "metadata": {
  "colab": {
   "provenance": []
  },
  "kernelspec": {
   "display_name": "Python 3",
   "language": "python",
   "name": "python3"
  },
  "language_info": {
   "codemirror_mode": {
    "name": "ipython",
    "version": 3
   },
   "file_extension": ".py",
   "mimetype": "text/x-python",
   "name": "python",
   "nbconvert_exporter": "python",
   "pygments_lexer": "ipython3",
   "version": "3.8.6"
  },
  "vscode": {
   "interpreter": {
    "hash": "1a1af0ee75eeea9e2e1ee996c87e7a2b11a0bebd85af04bb136d915cefc0abce"
   }
  }
 },
 "nbformat": 4,
 "nbformat_minor": 4
}
