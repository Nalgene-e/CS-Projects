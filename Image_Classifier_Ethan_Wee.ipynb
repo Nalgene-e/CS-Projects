{
  "nbformat": 4,
  "nbformat_minor": 0,
  "metadata": {
    "colab": {
      "provenance": []
    },
    "kernelspec": {
      "name": "python3",
      "display_name": "Python 3"
    },
    "language_info": {
      "name": "python"
    }
  },
  "cells": [
    {
      "cell_type": "code",
      "execution_count": null,
      "metadata": {
        "id": "qB_eowstOsKF"
      },
      "outputs": [],
      "source": [
        "import torch\n",
        "from torchvision import datasets\n",
        "from torchvision.transforms import ToTensor\n",
        "from torch.utils.data import DataLoader\n",
        "import torch.nn as nn\n",
        "import torch.nn.functional as F\n",
        "import torch.optim as optim\n",
        "\n",
        "# Download training data from open datasets.\n",
        "training_data = datasets.FashionMNIST(\n",
        "    root=\"data\",\n",
        "    train=True,\n",
        "    download=True,\n",
        "    transform=ToTensor(),\n",
        ")\n",
        "\n",
        "# Download test data from open datasets.\n",
        "test_data = datasets.FashionMNIST(\n",
        "    root=\"data\",\n",
        "    train=False,\n",
        "    download=True,\n",
        "    transform=ToTensor(),\n",
        ")\n"
      ]
    },
    {
      "cell_type": "code",
      "source": [
        "batch_size = 64  # You can adjust this as per your computational resources\n",
        "\n",
        "train_loader = DataLoader(training_data, batch_size=batch_size, shuffle=True)\n",
        "test_loader = DataLoader(test_data, batch_size=batch_size, shuffle=False)\n"
      ],
      "metadata": {
        "id": "sSkW_QQDOuUL"
      },
      "execution_count": null,
      "outputs": []
    },
    {
      "cell_type": "code",
      "source": [
        "class FashionClassifier(nn.Module):\n",
        "    def __init__(self):\n",
        "        super(FashionClassifier, self).__init__()\n",
        "        self.flatten = nn.Flatten()\n",
        "        self.linear_relu_stack = nn.Sequential(\n",
        "            nn.Linear(28*28, 512),\n",
        "            nn.ReLU(),\n",
        "            nn.Linear(512, 256),\n",
        "            nn.ReLU(),\n",
        "            nn.Linear(256, 10)\n",
        "        )\n",
        "\n",
        "    def forward(self, x):\n",
        "        x = self.flatten(x)\n",
        "        logits = self.linear_relu_stack(x)\n",
        "        return logits\n",
        "\n",
        "model = FashionClassifier()\n"
      ],
      "metadata": {
        "id": "mxvH90Z-Py_Z"
      },
      "execution_count": null,
      "outputs": []
    },
    {
      "cell_type": "code",
      "source": [
        "def train_loop(dataloader, model, loss_fn, optimizer):\n",
        "    size = len(dataloader.dataset)\n",
        "    for batch, (X, y) in enumerate(dataloader):\n",
        "        # Compute prediction and loss\n",
        "        pred = model(X)\n",
        "        loss = loss_fn(pred, y)\n",
        "\n",
        "        # Backpropagation\n",
        "        optimizer.zero_grad()\n",
        "        loss.backward()\n",
        "        optimizer.step()\n",
        "\n",
        "        if batch % 100 == 0:\n",
        "            loss, current = loss.item(), batch * len(X)\n",
        "            print(f\"loss: {loss:>7f}  [{current:>5d}/{size:>5d}]\")\n",
        "\n",
        "loss_fn = nn.CrossEntropyLoss()\n",
        "optimizer = torch.optim.Adam(model.parameters(), lr=1e-3)\n",
        "\n",
        "epochs = 5  # You can adjust this number\n",
        "for t in range(epochs):\n",
        "    print(f\"Epoch {t+1}\\n-------------------------------\")\n",
        "    train_loop(train_loader, model, loss_fn, optimizer)\n",
        "print(\"Done Training!\")\n"
      ],
      "metadata": {
        "colab": {
          "base_uri": "https://localhost:8080/"
        },
        "id": "TAbraFNcQTS6",
        "outputId": "976cc0e5-3bc7-4152-8eb8-224b405580fd"
      },
      "execution_count": null,
      "outputs": [
        {
          "output_type": "stream",
          "name": "stdout",
          "text": [
            "Epoch 1\n",
            "-------------------------------\n",
            "loss: 2.300499  [    0/60000]\n",
            "loss: 0.571715  [ 6400/60000]\n",
            "loss: 0.551075  [12800/60000]\n",
            "loss: 0.516063  [19200/60000]\n",
            "loss: 0.329042  [25600/60000]\n",
            "loss: 0.412347  [32000/60000]\n",
            "loss: 0.319959  [38400/60000]\n",
            "loss: 0.634995  [44800/60000]\n",
            "loss: 0.806925  [51200/60000]\n",
            "loss: 0.407362  [57600/60000]\n",
            "Epoch 2\n",
            "-------------------------------\n",
            "loss: 0.382300  [    0/60000]\n",
            "loss: 0.410304  [ 6400/60000]\n",
            "loss: 0.277542  [12800/60000]\n",
            "loss: 0.373559  [19200/60000]\n",
            "loss: 0.169156  [25600/60000]\n",
            "loss: 0.185650  [32000/60000]\n",
            "loss: 0.195986  [38400/60000]\n",
            "loss: 0.328994  [44800/60000]\n",
            "loss: 0.312892  [51200/60000]\n",
            "loss: 0.324507  [57600/60000]\n",
            "Epoch 3\n",
            "-------------------------------\n",
            "loss: 0.485057  [    0/60000]\n",
            "loss: 0.448124  [ 6400/60000]\n",
            "loss: 0.363440  [12800/60000]\n",
            "loss: 0.287689  [19200/60000]\n",
            "loss: 0.337441  [25600/60000]\n",
            "loss: 0.231099  [32000/60000]\n",
            "loss: 0.250052  [38400/60000]\n",
            "loss: 0.314951  [44800/60000]\n",
            "loss: 0.247732  [51200/60000]\n",
            "loss: 0.227124  [57600/60000]\n",
            "Epoch 4\n",
            "-------------------------------\n",
            "loss: 0.275557  [    0/60000]\n",
            "loss: 0.211957  [ 6400/60000]\n",
            "loss: 0.281467  [12800/60000]\n",
            "loss: 0.150358  [19200/60000]\n",
            "loss: 0.158450  [25600/60000]\n",
            "loss: 0.372193  [32000/60000]\n",
            "loss: 0.181419  [38400/60000]\n",
            "loss: 0.240330  [44800/60000]\n",
            "loss: 0.416419  [51200/60000]\n",
            "loss: 0.191067  [57600/60000]\n",
            "Epoch 5\n",
            "-------------------------------\n",
            "loss: 0.324262  [    0/60000]\n",
            "loss: 0.287126  [ 6400/60000]\n",
            "loss: 0.259594  [12800/60000]\n",
            "loss: 0.197965  [19200/60000]\n",
            "loss: 0.303361  [25600/60000]\n",
            "loss: 0.564088  [32000/60000]\n",
            "loss: 0.273690  [38400/60000]\n",
            "loss: 0.271123  [44800/60000]\n",
            "loss: 0.290204  [51200/60000]\n",
            "loss: 0.260272  [57600/60000]\n",
            "Done Training!\n"
          ]
        }
      ]
    },
    {
      "cell_type": "code",
      "source": [
        "# Replace 'model' with your model instance\n",
        "model_scripted = torch.jit.script(model)\n",
        "model_scripted.save(\"fashion_model.pt\")\n"
      ],
      "metadata": {
        "id": "5Gtp9aboRKCN"
      },
      "execution_count": null,
      "outputs": []
    },
    {
      "cell_type": "markdown",
      "source": [
        "# New Section"
      ],
      "metadata": {
        "id": "8fO6jndGRnht"
      }
    },
    {
      "cell_type": "code",
      "source": [],
      "metadata": {
        "id": "1fFF4Q6aRhC1"
      },
      "execution_count": null,
      "outputs": []
    }
  ]
}