{
 "cells": [
  {
   "cell_type": "code",
   "execution_count": 46,
   "metadata": {
    "collapsed": false,
    "jupyter": {
     "outputs_hidden": false
    }
   },
   "outputs": [],
   "source": [
    "import string"
   ]
  },
  {
   "cell_type": "markdown",
   "metadata": {
    "id": "jgwb968djWxG"
   },
   "source": [
    "## Exercise 1: Sum Digits"
   ]
  },
  {
   "cell_type": "code",
   "execution_count": 47,
   "metadata": {
    "id": "akjLg9KCkKUO"
   },
   "outputs": [],
   "source": [
    "#grade\n",
    "\n",
    "# INPUT:\n",
    "# n is the given number whose digits we sum (int)\n",
    "# OUTPUT:\n",
    "# the sum of all the digits (int)\n",
    "def sum_digits(n):\n",
    "    if n<10:\n",
    "        return n\n",
    "    \n",
    "    return sum_digits(n//10) +n%10\n",
    "    \n",
    "    "
   ]
  },
  {
   "cell_type": "code",
   "execution_count": 48,
   "metadata": {},
   "outputs": [
    {
     "data": {
      "text/plain": [
       "6"
      ]
     },
     "execution_count": 48,
     "metadata": {},
     "output_type": "execute_result"
    }
   ],
   "source": [
    "sum_digits(123)"
   ]
  },
  {
   "cell_type": "markdown",
   "metadata": {
    "id": "NAZwkQC0krJg"
   },
   "source": [
    "## Exercise 2: Triangle Blocks"
   ]
  },
  {
   "cell_type": "code",
   "execution_count": 49,
   "metadata": {
    "id": "yaBskUHbkuRj"
   },
   "outputs": [],
   "source": [
    "#grade\n",
    "\n",
    "# INPUT:\n",
    "# rows is the number of rows in the triangle (int)\n",
    "# OUTPUT:\n",
    "# The number of blocks the triangle contains  (int)\n",
    "\n",
    "def triangle_blocks(rows):\n",
    "    if rows==1:\n",
    "        return 1\n",
    "    return triangle_blocks((rows-1))+rows\n",
    "\n"
   ]
  },
  {
   "cell_type": "code",
   "execution_count": 50,
   "metadata": {},
   "outputs": [
    {
     "name": "stdout",
     "output_type": "stream",
     "text": [
      "1\n",
      "6\n"
     ]
    }
   ],
   "source": [
    "print(triangle_blocks(1))           # should be 1\n",
    "print(triangle_blocks(3))           # should be 6"
   ]
  },
  {
   "cell_type": "markdown",
   "metadata": {
    "id": "yxRF5t-QlCP2"
   },
   "source": [
    "## Exercise 3: Palindrome()"
   ]
  },
  {
   "cell_type": "code",
   "execution_count": 58,
   "metadata": {
    "id": "uDZXXKOilFCZ"
   },
   "outputs": [],
   "source": [
    "#grade\n",
    "\n",
    "# INPUT:\n",
    "# string is the text we're checking if it's a palindrome (str)\n",
    "# OUTPUT:\n",
    "# True if the string is a palindrome and false otherwise (bool)\n",
    "def is_palindrome(text):\n",
    "    \n",
    "    if len(text) <=1:\n",
    "        return True\n",
    "    if text[0] != text[-1]:\n",
    "        return False\n",
    "    return is_palindrome(text[1:-1])\n"
   ]
  },
  {
   "cell_type": "code",
   "execution_count": 59,
   "metadata": {},
   "outputs": [
    {
     "name": "stdout",
     "output_type": "stream",
     "text": [
      "True\n",
      "False\n"
     ]
    }
   ],
   "source": [
    "print(is_palindrome(\"aba\"))         # should be True\n",
    "print(is_palindrome(\"abb\"))         # should be False"
   ]
  },
  {
   "cell_type": "markdown",
   "metadata": {},
   "source": [
    "## Exercise 4: Partition"
   ]
  },
  {
   "cell_type": "code",
   "execution_count": 6,
   "metadata": {},
   "outputs": [],
   "source": [
    "#grade\n",
    "\n",
    "# INPUT:\n",
    "# number_list is the list we want to partition in half (list[int])\n",
    "# OUTPUT:\n",
    "# True If it's possible to partition into two equal value subsets and false otherwise (bool)\n",
    "def can_partition(number_list):\n",
    "    return False\n",
    "\n",
    "\n",
    "# This function will not be tested but may be very helpful for implementing the solution\n",
    "# INPUT:\n",
    "# number_list, a list we want to partition\n",
    "# leftList, a list of values stored in one subset\n",
    "# rightList, a list of values stored in the other subset\n",
    "# OUTPUT:\n",
    "# You decide!\n",
    "def partition_helper(number_list, leftList, rightList):\n",
    "    pass\n"
   ]
  },
  {
   "cell_type": "code",
   "execution_count": 7,
   "metadata": {
    "id": "51DJqpnlLaog"
   },
   "outputs": [
    {
     "name": "stdout",
     "output_type": "stream",
     "text": [
      "None\n",
      "None\n",
      "0\n",
      "0\n",
      "False\n",
      "False\n",
      "False\n",
      "False\n"
     ]
    }
   ],
   "source": [
    "# Helper code for debugging here\n",
    "\n",
    "print(sum_digits(123))              # should be 6\n",
    "print(sum_digits(210))              # should be 3\n",
    "\n",
    "print(triangle_blocks(1))           # should be 1\n",
    "print(triangle_blocks(3))           # should be 6\n",
    "\n",
    "print(is_palindrome(\"aba\"))         # should be True\n",
    "print(is_palindrome(\"abb\"))         # should be False\n",
    "\n",
    "print(can_partition([2, 5, 3]))     # should be True\n",
    "print(can_partition([2, 5, 2]))     # should be False\n"
   ]
  }
 ],
 "metadata": {
  "colab": {
   "provenance": []
  },
  "kernelspec": {
   "display_name": "Python 3",
   "language": "python",
   "name": "python3"
  },
  "language_info": {
   "codemirror_mode": {
    "name": "ipython",
    "version": 3
   },
   "file_extension": ".py",
   "mimetype": "text/x-python",
   "name": "python",
   "nbconvert_exporter": "python",
   "pygments_lexer": "ipython3",
   "version": "3.8.6"
  },
  "vscode": {
   "interpreter": {
    "hash": "1a1af0ee75eeea9e2e1ee996c87e7a2b11a0bebd85af04bb136d915cefc0abce"
   }
  }
 },
 "nbformat": 4,
 "nbformat_minor": 4
}
